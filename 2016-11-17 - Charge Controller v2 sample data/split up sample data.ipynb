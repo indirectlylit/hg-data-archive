{
 "cells": [
  {
   "cell_type": "code",
   "execution_count": 89,
   "metadata": {
    "collapsed": false
   },
   "outputs": [],
   "source": [
    "import json\n",
    "from pprint import pprint\n",
    "import os\n",
    "from __future__ import print_function\n",
    "import dateutil.parser"
   ]
  },
  {
   "cell_type": "code",
   "execution_count": 51,
   "metadata": {
    "collapsed": false
   },
   "outputs": [],
   "source": [
    "with open(\"./testdata-2016-11-17.txt\") as f:\n",
    "    msgs = [json.loads(line) for line in f]\n",
    "    all_network_data = [msg for msg in msgs if msg['chan'] == 'network.data']"
   ]
  },
  {
   "cell_type": "code",
   "execution_count": 53,
   "metadata": {
    "collapsed": false,
    "scrolled": true
   },
   "outputs": [
    {
     "name": "stdout",
     "output_type": "stream",
     "text": [
      "set([u'4-ac', u'acnet', u'bike', u'caps', u'inv'])\n"
     ]
    }
   ],
   "source": [
    "kinds = set([msg['data']['msg']['kind'] for msg in all_network_data])\n",
    "pprint(kinds)"
   ]
  },
  {
   "cell_type": "code",
   "execution_count": 55,
   "metadata": {
    "collapsed": false
   },
   "outputs": [
    {
     "name": "stdout",
     "output_type": "stream",
     "text": [
      "{u'chan': u'network.data',\n",
      " u'data': {u'address': u'10.0.0.117',\n",
      "           u'msg': {u'i': 38599,\n",
      "                    u'inv': False,\n",
      "                    u'kind': u'inv',\n",
      "                    u'ms': 3860570,\n",
      "                    u'soft': False,\n",
      "                    u'uid': u'0000',\n",
      "                    u'v': 20.573},\n",
      "           u'size': 86},\n",
      " u'time': u'2016-11-18T03:04:39.773Z'}\n"
     ]
    }
   ],
   "source": [
    "pprint(all_network_data[0])"
   ]
  },
  {
   "cell_type": "code",
   "execution_count": 71,
   "metadata": {
    "collapsed": true
   },
   "outputs": [],
   "source": [
    "def uid(msg):\n",
    "    return \"{}_{}_{}\".format(msg['data']['msg']['kind'], msg['data']['msg']['uid'], msg['data']['address'])"
   ]
  },
  {
   "cell_type": "code",
   "execution_count": 72,
   "metadata": {
    "collapsed": false
   },
   "outputs": [
    {
     "name": "stdout",
     "output_type": "stream",
     "text": [
      "set(['4-ac_07865_10.0.0.123',\n",
      "     '4-ac_10459_10.0.0.129',\n",
      "     '4-ac_11916_10.0.0.118',\n",
      "     '4-ac_28064_10.0.0.145',\n",
      "     'acnet_0000_serial port',\n",
      "     'bike_08004_10.0.0.109',\n",
      "     'bike_18185_10.0.0.126',\n",
      "     'bike_18754_10.0.0.139',\n",
      "     'caps_0000_10.0.0.110',\n",
      "     'inv_0000_10.0.0.117'])\n"
     ]
    }
   ],
   "source": [
    "uids = set([uid(msg) for msg in all_network_data])\n",
    "pprint(uids)"
   ]
  },
  {
   "cell_type": "code",
   "execution_count": 80,
   "metadata": {
    "collapsed": false
   },
   "outputs": [],
   "source": [
    "for msg in all_network_data:\n",
    "    with open(os.path.join('machines', uid(msg)+'.txt'), 'a') as f:\n",
    "        f.write(json.dumps(msg) + '\\n')"
   ]
  },
  {
   "cell_type": "code",
   "execution_count": 96,
   "metadata": {
    "collapsed": false
   },
   "outputs": [],
   "source": [
    "dates = [dateutil.parser.parse(msg['time']) for msg in all_network_data]\n",
    "date_range = max(dates) - min(dates)"
   ]
  },
  {
   "cell_type": "code",
   "execution_count": 104,
   "metadata": {
    "collapsed": false
   },
   "outputs": [
    {
     "name": "stdout",
     "output_type": "stream",
     "text": [
      "0:04:14.142000\n",
      "(4.2357 minutes)\n"
     ]
    }
   ],
   "source": [
    "print(str(date_range))\n",
    "print(\"({} minutes)\".format(date_range.total_seconds() / 60))"
   ]
  },
  {
   "cell_type": "code",
   "execution_count": null,
   "metadata": {
    "collapsed": true
   },
   "outputs": [],
   "source": []
  }
 ],
 "metadata": {
  "kernelspec": {
   "display_name": "Python 2",
   "language": "python",
   "name": "python2"
  },
  "language_info": {
   "codemirror_mode": {
    "name": "ipython",
    "version": 2
   },
   "file_extension": ".py",
   "mimetype": "text/x-python",
   "name": "python",
   "nbconvert_exporter": "python",
   "pygments_lexer": "ipython2",
   "version": "2.7.3"
  }
 },
 "nbformat": 4,
 "nbformat_minor": 0
}
