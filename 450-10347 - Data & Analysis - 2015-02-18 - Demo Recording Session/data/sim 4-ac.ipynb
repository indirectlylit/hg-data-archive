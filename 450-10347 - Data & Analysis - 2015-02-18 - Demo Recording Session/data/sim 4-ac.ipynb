{
 "cells": [
  {
   "cell_type": "code",
   "execution_count": 2,
   "metadata": {
    "collapsed": false
   },
   "outputs": [
    {
     "name": "stdout",
     "output_type": "stream",
     "text": [
      "total 14752\r\n",
      "drwxr-x--- 1 vagrant vagrant     238 Apr 27 02:29 \u001b[0m\u001b[01;34m.\u001b[0m/\r\n",
      "drwxr-x--- 1 vagrant vagrant     136 Mar 23 16:58 \u001b[01;34m..\u001b[0m/\r\n",
      "-rwxr-x--- 1 vagrant vagrant 3299388 Feb 19 03:49 \u001b[01;32m2015-02-19T01'11'54.101Z - 1.txt\u001b[0m*\r\n",
      "-rwxr-x--- 1 vagrant vagrant 5288265 Feb 19 03:49 \u001b[01;32m2015-02-19T01'23'25.102Z - 2.txt\u001b[0m*\r\n",
      "-rwxr-x--- 1 vagrant vagrant 6505362 Feb 19 03:48 \u001b[01;32m2015-02-19T01'37'18.973Z - 3.txt\u001b[0m*\r\n",
      "drwxr-x--- 1 vagrant vagrant     102 Apr 27 02:29 \u001b[01;34m.ipynb_checkpoints\u001b[0m/\r\n",
      "-rw-r----- 1 vagrant vagrant    1249 Apr 27 01:58 sim 4-ac.ipynb\r\n"
     ]
    }
   ],
   "source": [
    "ls -la"
   ]
  },
  {
   "cell_type": "code",
   "execution_count": 34,
   "metadata": {
    "collapsed": false
   },
   "outputs": [],
   "source": [
    "%matplotlib inline  \n",
    "\n",
    "import json\n",
    "import datetime\n",
    "import dateutil.parser\n",
    "from copy import deepcopy\n",
    "import random\n",
    "\n",
    "import matplotlib\n",
    "import numpy as np\n",
    "import matplotlib.pyplot as plt"
   ]
  },
  {
   "cell_type": "code",
   "execution_count": 43,
   "metadata": {
    "collapsed": false
   },
   "outputs": [],
   "source": [
    "events_orig = []\n",
    "channels = {}\n",
    "\n",
    "with open(\"2015-02-19T01'23'25.102Z - 2.txt\") as f:\n",
    "    for line in f:\n",
    "        d = json.loads(line)\n",
    "#         time = dateutil.parser.parse(d['time'])\n",
    "#         d['time'] = time\n",
    "        events_orig.append(d)\n",
    "        if d['chan'] not in channels:\n",
    "            channels[d['chan']] = []\n",
    "        channels[d['chan']].append(d)"
   ]
  },
  {
   "cell_type": "code",
   "execution_count": 44,
   "metadata": {
    "collapsed": false
   },
   "outputs": [
    {
     "data": {
      "text/plain": [
       "[u'network.data',\n",
       " u'server.stats',\n",
       " u'logger.state.recording_state',\n",
       " u'logger.state.clap',\n",
       " u'network.stats']"
      ]
     },
     "execution_count": 44,
     "metadata": {},
     "output_type": "execute_result"
    }
   ],
   "source": [
    "channels.keys()"
   ]
  },
  {
   "cell_type": "code",
   "execution_count": 45,
   "metadata": {
    "collapsed": true
   },
   "outputs": [],
   "source": [
    "data = channels['network.data']"
   ]
  },
  {
   "cell_type": "code",
   "execution_count": 54,
   "metadata": {
    "collapsed": true
   },
   "outputs": [],
   "source": [
    "def scale(n):\n",
    "    return 0.99 * n + 0.1\n",
    "\n",
    "def makeVariation(d, n):\n",
    "    s = scale(n)\n",
    "    out = deepcopy(d)\n",
    "    out['data']['address'] =  \"{}-{}\".format(out['data']['address'], n)\n",
    "    out['data']['msg']['uid'] = out['data']['msg']['uid'] + n\n",
    "    out['data']['msg']['c_1'] = s * out['data']['msg']['c_1']\n",
    "    out['data']['msg']['c_2'] = s * out['data']['msg']['c_2']\n",
    "    out['data']['msg']['c_3'] = s * out['data']['msg']['c_3']\n",
    "    out['data']['msg']['c_4'] = s * out['data']['msg']['c_4']\n",
    "    return out"
   ]
  },
  {
   "cell_type": "code",
   "execution_count": 55,
   "metadata": {
    "collapsed": false
   },
   "outputs": [],
   "source": [
    "sim_data = []\n",
    "for d in data:\n",
    "    if d['data']['msg']['kind'] == 'proto-em':\n",
    "        d2 = deepcopy(d)\n",
    "        d2['data']['msg']['kind'] = '4-ac'\n",
    "        d2['data']['msg'][u'c_3'] = d2['data']['msg']['c_1']\n",
    "        d2['data']['msg'][u'c_4'] = d2['data']['msg']['c_2']\n",
    "        sim_data.append(d2)\n",
    "        for n in range(0, 11):\n",
    "            sim_data.append(makeVariation(d2, n))\n",
    "    else:\n",
    "        sim_data.append(d)"
   ]
  },
  {
   "cell_type": "code",
   "execution_count": 56,
   "metadata": {
    "collapsed": false
   },
   "outputs": [
    {
     "name": "stdout",
     "output_type": "stream",
     "text": [
      "50591\n"
     ]
    }
   ],
   "source": [
    "print len(sim_data)\n",
    "sim_data = sim_data[10000:]"
   ]
  },
  {
   "cell_type": "code",
   "execution_count": 57,
   "metadata": {
    "collapsed": false
   },
   "outputs": [],
   "source": [
    "with open(\"sim-4ac.txt\", 'w') as f:\n",
    "    for d in sim_data:\n",
    "        f.write(\"{}\\n\".format(json.dumps(d)))"
   ]
  },
  {
   "cell_type": "code",
   "execution_count": 58,
   "metadata": {
    "collapsed": false,
    "scrolled": false
   },
   "outputs": [
    {
     "data": {
      "text/plain": [
       "[{u'chan': u'network.data',\n",
       "  u'data': {u'address': u'10.0.0.122',\n",
       "   u'msg': {u'c1_bits': 0,\n",
       "    u'c2_bits': 0,\n",
       "    u'c_1': 0.046,\n",
       "    u'c_2': 0.046,\n",
       "    u'c_3': 0.046,\n",
       "    u'c_4': 0.046,\n",
       "    u'i': 13400,\n",
       "    u'kind': '4-ac',\n",
       "    u'ms': 3827103,\n",
       "    u'uid': 4245,\n",
       "    u'v': 4.575,\n",
       "    u'v_bits': 2,\n",
       "    u'vers': u'v0.1.1'},\n",
       "   u'size': 174},\n",
       "  u'time': u'2015-02-19T01:24:23.994Z'},\n",
       " {u'chan': u'network.data',\n",
       "  u'data': {u'address': '10.0.0.122-0',\n",
       "   u'msg': {u'c1_bits': 0,\n",
       "    u'c2_bits': 0,\n",
       "    u'c_1': 0.0046,\n",
       "    u'c_2': 0.0046,\n",
       "    u'c_3': 0.0046,\n",
       "    u'c_4': 0.0046,\n",
       "    u'i': 13400,\n",
       "    u'kind': '4-ac',\n",
       "    u'ms': 3827103,\n",
       "    u'uid': 4245,\n",
       "    u'v': 4.575,\n",
       "    u'v_bits': 2,\n",
       "    u'vers': u'v0.1.1'},\n",
       "   u'size': 174},\n",
       "  u'time': u'2015-02-19T01:24:23.994Z'},\n",
       " {u'chan': u'network.data',\n",
       "  u'data': {u'address': '10.0.0.122-1',\n",
       "   u'msg': {u'c1_bits': 0,\n",
       "    u'c2_bits': 0,\n",
       "    u'c_1': 0.050140000000000004,\n",
       "    u'c_2': 0.050140000000000004,\n",
       "    u'c_3': 0.050140000000000004,\n",
       "    u'c_4': 0.050140000000000004,\n",
       "    u'i': 13400,\n",
       "    u'kind': '4-ac',\n",
       "    u'ms': 3827103,\n",
       "    u'uid': 4246,\n",
       "    u'v': 4.575,\n",
       "    u'v_bits': 2,\n",
       "    u'vers': u'v0.1.1'},\n",
       "   u'size': 174},\n",
       "  u'time': u'2015-02-19T01:24:23.994Z'},\n",
       " {u'chan': u'network.data',\n",
       "  u'data': {u'address': '10.0.0.122-2',\n",
       "   u'msg': {u'c1_bits': 0,\n",
       "    u'c2_bits': 0,\n",
       "    u'c_1': 0.09568,\n",
       "    u'c_2': 0.09568,\n",
       "    u'c_3': 0.09568,\n",
       "    u'c_4': 0.09568,\n",
       "    u'i': 13400,\n",
       "    u'kind': '4-ac',\n",
       "    u'ms': 3827103,\n",
       "    u'uid': 4247,\n",
       "    u'v': 4.575,\n",
       "    u'v_bits': 2,\n",
       "    u'vers': u'v0.1.1'},\n",
       "   u'size': 174},\n",
       "  u'time': u'2015-02-19T01:24:23.994Z'},\n",
       " {u'chan': u'network.data',\n",
       "  u'data': {u'address': '10.0.0.122-3',\n",
       "   u'msg': {u'c1_bits': 0,\n",
       "    u'c2_bits': 0,\n",
       "    u'c_1': 0.14121999999999998,\n",
       "    u'c_2': 0.14121999999999998,\n",
       "    u'c_3': 0.14121999999999998,\n",
       "    u'c_4': 0.14121999999999998,\n",
       "    u'i': 13400,\n",
       "    u'kind': '4-ac',\n",
       "    u'ms': 3827103,\n",
       "    u'uid': 4248,\n",
       "    u'v': 4.575,\n",
       "    u'v_bits': 2,\n",
       "    u'vers': u'v0.1.1'},\n",
       "   u'size': 174},\n",
       "  u'time': u'2015-02-19T01:24:23.994Z'},\n",
       " {u'chan': u'network.data',\n",
       "  u'data': {u'address': '10.0.0.122-4',\n",
       "   u'msg': {u'c1_bits': 0,\n",
       "    u'c2_bits': 0,\n",
       "    u'c_1': 0.18675999999999998,\n",
       "    u'c_2': 0.18675999999999998,\n",
       "    u'c_3': 0.18675999999999998,\n",
       "    u'c_4': 0.18675999999999998,\n",
       "    u'i': 13400,\n",
       "    u'kind': '4-ac',\n",
       "    u'ms': 3827103,\n",
       "    u'uid': 4249,\n",
       "    u'v': 4.575,\n",
       "    u'v_bits': 2,\n",
       "    u'vers': u'v0.1.1'},\n",
       "   u'size': 174},\n",
       "  u'time': u'2015-02-19T01:24:23.994Z'},\n",
       " {u'chan': u'network.data',\n",
       "  u'data': {u'address': '10.0.0.122-5',\n",
       "   u'msg': {u'c1_bits': 0,\n",
       "    u'c2_bits': 0,\n",
       "    u'c_1': 0.23229999999999998,\n",
       "    u'c_2': 0.23229999999999998,\n",
       "    u'c_3': 0.23229999999999998,\n",
       "    u'c_4': 0.23229999999999998,\n",
       "    u'i': 13400,\n",
       "    u'kind': '4-ac',\n",
       "    u'ms': 3827103,\n",
       "    u'uid': 4250,\n",
       "    u'v': 4.575,\n",
       "    u'v_bits': 2,\n",
       "    u'vers': u'v0.1.1'},\n",
       "   u'size': 174},\n",
       "  u'time': u'2015-02-19T01:24:23.994Z'},\n",
       " {u'chan': u'network.data',\n",
       "  u'data': {u'address': '10.0.0.122-6',\n",
       "   u'msg': {u'c1_bits': 0,\n",
       "    u'c2_bits': 0,\n",
       "    u'c_1': 0.27784,\n",
       "    u'c_2': 0.27784,\n",
       "    u'c_3': 0.27784,\n",
       "    u'c_4': 0.27784,\n",
       "    u'i': 13400,\n",
       "    u'kind': '4-ac',\n",
       "    u'ms': 3827103,\n",
       "    u'uid': 4251,\n",
       "    u'v': 4.575,\n",
       "    u'v_bits': 2,\n",
       "    u'vers': u'v0.1.1'},\n",
       "   u'size': 174},\n",
       "  u'time': u'2015-02-19T01:24:23.994Z'},\n",
       " {u'chan': u'network.data',\n",
       "  u'data': {u'address': '10.0.0.122-7',\n",
       "   u'msg': {u'c1_bits': 0,\n",
       "    u'c2_bits': 0,\n",
       "    u'c_1': 0.32337999999999995,\n",
       "    u'c_2': 0.32337999999999995,\n",
       "    u'c_3': 0.32337999999999995,\n",
       "    u'c_4': 0.32337999999999995,\n",
       "    u'i': 13400,\n",
       "    u'kind': '4-ac',\n",
       "    u'ms': 3827103,\n",
       "    u'uid': 4252,\n",
       "    u'v': 4.575,\n",
       "    u'v_bits': 2,\n",
       "    u'vers': u'v0.1.1'},\n",
       "   u'size': 174},\n",
       "  u'time': u'2015-02-19T01:24:23.994Z'},\n",
       " {u'chan': u'network.data',\n",
       "  u'data': {u'address': '10.0.0.122-8',\n",
       "   u'msg': {u'c1_bits': 0,\n",
       "    u'c2_bits': 0,\n",
       "    u'c_1': 0.36891999999999997,\n",
       "    u'c_2': 0.36891999999999997,\n",
       "    u'c_3': 0.36891999999999997,\n",
       "    u'c_4': 0.36891999999999997,\n",
       "    u'i': 13400,\n",
       "    u'kind': '4-ac',\n",
       "    u'ms': 3827103,\n",
       "    u'uid': 4253,\n",
       "    u'v': 4.575,\n",
       "    u'v_bits': 2,\n",
       "    u'vers': u'v0.1.1'},\n",
       "   u'size': 174},\n",
       "  u'time': u'2015-02-19T01:24:23.994Z'}]"
      ]
     },
     "execution_count": 58,
     "metadata": {},
     "output_type": "execute_result"
    }
   ],
   "source": [
    "sim_data[:10]"
   ]
  },
  {
   "cell_type": "code",
   "execution_count": null,
   "metadata": {
    "collapsed": true,
    "scrolled": true
   },
   "outputs": [],
   "source": [
    "\n",
    "\n",
    "\n",
    "\n",
    "\n",
    "\n",
    "\n",
    "\n",
    "\n",
    "\n",
    "\n",
    "\n",
    "\n",
    "\n"
   ]
  }
 ],
 "metadata": {
  "kernelspec": {
   "display_name": "Python 2",
   "language": "python",
   "name": "python2"
  },
  "language_info": {
   "codemirror_mode": {
    "name": "ipython",
    "version": 2
   },
   "file_extension": ".py",
   "mimetype": "text/x-python",
   "name": "python",
   "nbconvert_exporter": "python",
   "pygments_lexer": "ipython2",
   "version": "2.7.3"
  }
 },
 "nbformat": 4,
 "nbformat_minor": 0
}
