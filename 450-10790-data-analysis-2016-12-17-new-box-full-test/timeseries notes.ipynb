{
 "cells": [
  {
   "cell_type": "code",
   "execution_count": 17,
   "metadata": {
    "collapsed": false
   },
   "outputs": [],
   "source": [
    "import numpy as np\n",
    "import matplotlib.pyplot as plt\n",
    "import pandas as pd\n",
    "from pandas import Series, DataFrame\n",
    "%matplotlib inline"
   ]
  },
  {
   "cell_type": "code",
   "execution_count": 33,
   "metadata": {
    "collapsed": false
   },
   "outputs": [],
   "source": [
    "index = ['a', 'b', 'c', 'd', 'e']\n",
    "\n",
    "s = Series(np.arange(5), index=index)"
   ]
  },
  {
   "cell_type": "code",
   "execution_count": 43,
   "metadata": {
    "collapsed": false
   },
   "outputs": [
    {
     "data": {
      "text/plain": [
       "DatetimeIndex(['2017-01-01', '2017-01-02', '2017-01-03', '2017-01-04',\n",
       "               '2017-01-05'],\n",
       "              dtype='datetime64[ns]', freq='D', tz=None)"
      ]
     },
     "execution_count": 43,
     "metadata": {},
     "output_type": "execute_result"
    }
   ],
   "source": [
    "dates = pd.date_range('2017-01-01', '2017-01-5')\n",
    "dates"
   ]
  },
  {
   "cell_type": "code",
   "execution_count": 44,
   "metadata": {
    "collapsed": false
   },
   "outputs": [
    {
     "data": {
      "text/plain": [
       "2017-01-01    101\n",
       "2017-01-02     98\n",
       "2017-01-03     97\n",
       "2017-01-04    100\n",
       "2017-01-05     64\n",
       "Freq: D, dtype: int64"
      ]
     },
     "execution_count": 44,
     "metadata": {},
     "output_type": "execute_result"
    }
   ],
   "source": [
    "atemps = Series([101, 98, 97, 100, 64], index=dates)\n",
    "atemps"
   ]
  },
  {
   "cell_type": "code",
   "execution_count": 48,
   "metadata": {
    "collapsed": false
   },
   "outputs": [
    {
     "data": {
      "text/plain": [
       "97"
      ]
     },
     "execution_count": 48,
     "metadata": {},
     "output_type": "execute_result"
    }
   ],
   "source": [
    "idx = atemps.index[2]\n",
    "atemps[idx]"
   ]
  },
  {
   "cell_type": "code",
   "execution_count": 49,
   "metadata": {
    "collapsed": false
   },
   "outputs": [
    {
     "data": {
      "text/plain": [
       "2017-01-01    54\n",
       "2017-01-02    73\n",
       "2017-01-03    64\n",
       "2017-01-04    63\n",
       "2017-01-05    64\n",
       "Freq: D, dtype: int64"
      ]
     },
     "execution_count": 49,
     "metadata": {},
     "output_type": "execute_result"
    }
   ],
   "source": [
    "btemps = Series([54, 73, 64, 63, 64], index=dates)\n",
    "btemps"
   ]
  },
  {
   "cell_type": "code",
   "execution_count": 50,
   "metadata": {
    "collapsed": false
   },
   "outputs": [
    {
     "data": {
      "text/html": [
       "<div style=\"max-height:1000px;max-width:1500px;overflow:auto;\">\n",
       "<table border=\"1\" class=\"dataframe\">\n",
       "  <thead>\n",
       "    <tr style=\"text-align: right;\">\n",
       "      <th></th>\n",
       "      <th>Austin</th>\n",
       "      <th>SD</th>\n",
       "    </tr>\n",
       "  </thead>\n",
       "  <tbody>\n",
       "    <tr>\n",
       "      <th>2017-01-01</th>\n",
       "      <td>101</td>\n",
       "      <td>54</td>\n",
       "    </tr>\n",
       "    <tr>\n",
       "      <th>2017-01-02</th>\n",
       "      <td>98</td>\n",
       "      <td>73</td>\n",
       "    </tr>\n",
       "    <tr>\n",
       "      <th>2017-01-03</th>\n",
       "      <td>97</td>\n",
       "      <td>64</td>\n",
       "    </tr>\n",
       "    <tr>\n",
       "      <th>2017-01-04</th>\n",
       "      <td>100</td>\n",
       "      <td>63</td>\n",
       "    </tr>\n",
       "    <tr>\n",
       "      <th>2017-01-05</th>\n",
       "      <td>64</td>\n",
       "      <td>64</td>\n",
       "    </tr>\n",
       "  </tbody>\n",
       "</table>\n",
       "</div>"
      ],
      "text/plain": [
       "            Austin  SD\n",
       "2017-01-01     101  54\n",
       "2017-01-02      98  73\n",
       "2017-01-03      97  64\n",
       "2017-01-04     100  63\n",
       "2017-01-05      64  64"
      ]
     },
     "execution_count": 50,
     "metadata": {},
     "output_type": "execute_result"
    }
   ],
   "source": [
    "temps = DataFrame({'Austin': atemps, 'SD': btemps})\n",
    "temps"
   ]
  },
  {
   "cell_type": "code",
   "execution_count": 55,
   "metadata": {
    "collapsed": false
   },
   "outputs": [
    {
     "data": {
      "text/html": [
       "<div style=\"max-height:1000px;max-width:1500px;overflow:auto;\">\n",
       "<table border=\"1\" class=\"dataframe\">\n",
       "  <thead>\n",
       "    <tr style=\"text-align: right;\">\n",
       "      <th></th>\n",
       "      <th>Austin</th>\n",
       "      <th>SD</th>\n",
       "      <th>diff</th>\n",
       "    </tr>\n",
       "  </thead>\n",
       "  <tbody>\n",
       "    <tr>\n",
       "      <th>2017-01-01</th>\n",
       "      <td>101</td>\n",
       "      <td>54</td>\n",
       "      <td>-47</td>\n",
       "    </tr>\n",
       "    <tr>\n",
       "      <th>2017-01-02</th>\n",
       "      <td>98</td>\n",
       "      <td>73</td>\n",
       "      <td>-25</td>\n",
       "    </tr>\n",
       "    <tr>\n",
       "      <th>2017-01-03</th>\n",
       "      <td>97</td>\n",
       "      <td>64</td>\n",
       "      <td>-33</td>\n",
       "    </tr>\n",
       "    <tr>\n",
       "      <th>2017-01-04</th>\n",
       "      <td>100</td>\n",
       "      <td>63</td>\n",
       "      <td>-37</td>\n",
       "    </tr>\n",
       "    <tr>\n",
       "      <th>2017-01-05</th>\n",
       "      <td>64</td>\n",
       "      <td>64</td>\n",
       "      <td>0</td>\n",
       "    </tr>\n",
       "  </tbody>\n",
       "</table>\n",
       "</div>"
      ],
      "text/plain": [
       "            Austin  SD  diff\n",
       "2017-01-01     101  54   -47\n",
       "2017-01-02      98  73   -25\n",
       "2017-01-03      97  64   -33\n",
       "2017-01-04     100  63   -37\n",
       "2017-01-05      64  64     0"
      ]
     },
     "execution_count": 55,
     "metadata": {},
     "output_type": "execute_result"
    }
   ],
   "source": [
    "temps['diff'] = temps['SD']-temps['Austin']\n",
    "temps"
   ]
  },
  {
   "cell_type": "code",
   "execution_count": 81,
   "metadata": {
    "collapsed": false
   },
   "outputs": [
    {
     "data": {
      "text/html": [
       "<div style=\"max-height:1000px;max-width:1500px;overflow:auto;\">\n",
       "<table border=\"1\" class=\"dataframe\">\n",
       "  <thead>\n",
       "    <tr style=\"text-align: right;\">\n",
       "      <th></th>\n",
       "      <th>Austin</th>\n",
       "      <th>SD</th>\n",
       "      <th>diff</th>\n",
       "    </tr>\n",
       "  </thead>\n",
       "  <tbody>\n",
       "    <tr>\n",
       "      <th>2017-01-01</th>\n",
       "      <td>9</td>\n",
       "      <td>-9.6</td>\n",
       "      <td>-18.6</td>\n",
       "    </tr>\n",
       "    <tr>\n",
       "      <th>2017-01-02</th>\n",
       "      <td>6</td>\n",
       "      <td>9.4</td>\n",
       "      <td>3.4</td>\n",
       "    </tr>\n",
       "    <tr>\n",
       "      <th>2017-01-03</th>\n",
       "      <td>5</td>\n",
       "      <td>0.4</td>\n",
       "      <td>-4.6</td>\n",
       "    </tr>\n",
       "    <tr>\n",
       "      <th>2017-01-04</th>\n",
       "      <td>8</td>\n",
       "      <td>-0.6</td>\n",
       "      <td>-8.6</td>\n",
       "    </tr>\n",
       "    <tr>\n",
       "      <th>2017-01-05</th>\n",
       "      <td>-28</td>\n",
       "      <td>0.4</td>\n",
       "      <td>28.4</td>\n",
       "    </tr>\n",
       "  </tbody>\n",
       "</table>\n",
       "</div>"
      ],
      "text/plain": [
       "            Austin   SD  diff\n",
       "2017-01-01       9 -9.6 -18.6\n",
       "2017-01-02       6  9.4   3.4\n",
       "2017-01-03       5  0.4  -4.6\n",
       "2017-01-04       8 -0.6  -8.6\n",
       "2017-01-05     -28  0.4  28.4"
      ]
     },
     "execution_count": 81,
     "metadata": {},
     "output_type": "execute_result"
    }
   ],
   "source": [
    "temps - temps.mean()"
   ]
  },
  {
   "cell_type": "code",
   "execution_count": 83,
   "metadata": {
    "collapsed": false
   },
   "outputs": [
    {
     "name": "stderr",
     "output_type": "stream",
     "text": [
      "/Users/d/PythonEnvs/main/lib/python2.7/site-packages/matplotlib/__init__.py:878: UserWarning: axes.color_cycle is deprecated and replaced with axes.prop_cycle; please use the latter.\n",
      "  warnings.warn(self.msg_depr % (key, alt_key))\n"
     ]
    }
   ],
   "source": [
    "import matplotlib.pyplot as plt\n",
    "import seaborn as sns\n",
    "%matplotlib inline\n",
    "sns.set(style=\"darkgrid\")\n",
    "plt.rcParams['figure.figsize'] = (12, 3)"
   ]
  },
  {
   "cell_type": "code",
   "execution_count": 87,
   "metadata": {
    "collapsed": true
   },
   "outputs": [],
   "source": [
    "all_data = pd.read_pickle('all_data.pkl')"
   ]
  },
  {
   "cell_type": "code",
   "execution_count": 88,
   "metadata": {
    "collapsed": true
   },
   "outputs": [],
   "source": [
    "%run chart_data_v1.py"
   ]
  },
  {
   "cell_type": "code",
   "execution_count": 89,
   "metadata": {
    "collapsed": false
   },
   "outputs": [],
   "source": [
    "cap_data = get_cap_data(all_data)\n",
    "\n",
    "# remove weird outliers\n",
    "cap_data = cap_data[cap_data.c_in < 1000]\n",
    "cap_data = cap_data[cap_data.temp > 15]\n",
    "\n",
    "ac_data = get_ac_data(all_data)\n",
    "inv_data = get_inverter_data(all_data)\n",
    "bike_groups = get_bike_groups(all_data)\n",
    "dings = get_dings(all_data)"
   ]
  },
  {
   "cell_type": "code",
   "execution_count": 98,
   "metadata": {
    "collapsed": false
   },
   "outputs": [
    {
     "data": {
      "text/plain": [
       "DatetimeIndex(['2016-12-17 19:30:17.335000', '2016-12-17 19:30:21.233000',\n",
       "               '2016-12-17 20:23:25.529000', '2016-12-17 20:23:26.573000',\n",
       "               '2016-12-17 20:23:33.115000', '2016-12-17 20:23:38.369000',\n",
       "               '2016-12-17 19:29:25.434000', '2016-12-17 19:29:25.442000',\n",
       "               '2016-12-17 19:29:25.448000', '2016-12-17 19:29:25.471000'],\n",
       "              dtype='datetime64[ns]', name=u'time', freq=None, tz=None)"
      ]
     },
     "execution_count": 98,
     "metadata": {},
     "output_type": "execute_result"
    }
   ],
   "source": [
    "stamps = all_data.index[:10]\n",
    "stamps"
   ]
  },
  {
   "cell_type": "code",
   "execution_count": 126,
   "metadata": {
    "collapsed": false
   },
   "outputs": [],
   "source": [
    "rng = pd.date_range('2016-07-17', periods=1000, freq='D')\n",
    "ts = Series(np.arange(1000), index=rng)"
   ]
  },
  {
   "cell_type": "code",
   "execution_count": 127,
   "metadata": {
    "collapsed": false
   },
   "outputs": [
    {
     "data": {
      "text/plain": [
       "2016-07-18      1\n",
       "2016-07-19      2\n",
       "2016-07-20      3\n",
       "2016-07-21      4\n",
       "2016-07-22      5\n",
       "2016-07-23      6\n",
       "2016-07-24      7\n",
       "2016-07-25      8\n",
       "2016-07-26      9\n",
       "2016-07-27     10\n",
       "2016-07-28     11\n",
       "2016-07-29     12\n",
       "2016-07-30     13\n",
       "2016-07-31     14\n",
       "2016-08-01     15\n",
       "2016-08-02     16\n",
       "2016-08-03     17\n",
       "2016-08-04     18\n",
       "2016-08-05     19\n",
       "2016-08-06     20\n",
       "2016-08-07     21\n",
       "2016-08-08     22\n",
       "2016-08-09     23\n",
       "2016-08-10     24\n",
       "2016-08-11     25\n",
       "2016-08-12     26\n",
       "2016-08-13     27\n",
       "2016-08-14     28\n",
       "2016-08-15     29\n",
       "2016-08-16     30\n",
       "             ... \n",
       "2019-03-14    970\n",
       "2019-03-15    971\n",
       "2019-03-16    972\n",
       "2019-03-17    973\n",
       "2019-03-18    974\n",
       "2019-03-19    975\n",
       "2019-03-20    976\n",
       "2019-03-21    977\n",
       "2019-03-22    978\n",
       "2019-03-23    979\n",
       "2019-03-24    980\n",
       "2019-03-25    981\n",
       "2019-03-26    982\n",
       "2019-03-27    983\n",
       "2019-03-28    984\n",
       "2019-03-29    985\n",
       "2019-03-30    986\n",
       "2019-03-31    987\n",
       "2019-04-01    988\n",
       "2019-04-02    989\n",
       "2019-04-03    990\n",
       "2019-04-04    991\n",
       "2019-04-05    992\n",
       "2019-04-06    993\n",
       "2019-04-07    994\n",
       "2019-04-08    995\n",
       "2019-04-09    996\n",
       "2019-04-10    997\n",
       "2019-04-11    998\n",
       "2019-04-12    999\n",
       "Freq: D, dtype: int64"
      ]
     },
     "execution_count": 127,
     "metadata": {},
     "output_type": "execute_result"
    }
   ],
   "source": [
    "from datetime import datetime\n",
    "ts['2016-07-17 00:16:23':]"
   ]
  },
  {
   "cell_type": "code",
   "execution_count": 128,
   "metadata": {
    "collapsed": false
   },
   "outputs": [
    {
     "data": {
      "text/plain": [
       "True"
      ]
     },
     "execution_count": 128,
     "metadata": {},
     "output_type": "execute_result"
    }
   ],
   "source": [
    "all_data = all_data.sort_index()\n",
    "all_data.index.is_monotonic"
   ]
  },
  {
   "cell_type": "code",
   "execution_count": 130,
   "metadata": {
    "collapsed": false
   },
   "outputs": [
    {
     "data": {
      "text/html": [
       "<div style=\"max-height:1000px;max-width:1500px;overflow:auto;\">\n",
       "<table border=\"1\" class=\"dataframe\">\n",
       "  <thead>\n",
       "    <tr style=\"text-align: right;\">\n",
       "      <th></th>\n",
       "      <th>A</th>\n",
       "      <th>B</th>\n",
       "      <th>C</th>\n",
       "      <th>hello</th>\n",
       "    </tr>\n",
       "  </thead>\n",
       "  <tbody>\n",
       "    <tr>\n",
       "      <th>2016-07-17</th>\n",
       "      <td>0</td>\n",
       "      <td>1</td>\n",
       "      <td>2</td>\n",
       "      <td>3</td>\n",
       "    </tr>\n",
       "    <tr>\n",
       "      <th>2016-07-18</th>\n",
       "      <td>4</td>\n",
       "      <td>5</td>\n",
       "      <td>6</td>\n",
       "      <td>7</td>\n",
       "    </tr>\n",
       "    <tr>\n",
       "      <th>2016-07-19</th>\n",
       "      <td>8</td>\n",
       "      <td>9</td>\n",
       "      <td>10</td>\n",
       "      <td>11</td>\n",
       "    </tr>\n",
       "    <tr>\n",
       "      <th>2016-07-20</th>\n",
       "      <td>12</td>\n",
       "      <td>13</td>\n",
       "      <td>14</td>\n",
       "      <td>15</td>\n",
       "    </tr>\n",
       "    <tr>\n",
       "      <th>2016-07-21</th>\n",
       "      <td>16</td>\n",
       "      <td>17</td>\n",
       "      <td>18</td>\n",
       "      <td>19</td>\n",
       "    </tr>\n",
       "  </tbody>\n",
       "</table>\n",
       "</div>"
      ],
      "text/plain": [
       "             A   B   C  hello\n",
       "2016-07-17   0   1   2      3\n",
       "2016-07-18   4   5   6      7\n",
       "2016-07-19   8   9  10     11\n",
       "2016-07-20  12  13  14     15\n",
       "2016-07-21  16  17  18     19"
      ]
     },
     "execution_count": 130,
     "metadata": {},
     "output_type": "execute_result"
    }
   ],
   "source": [
    "df = DataFrame(np.arange(4000).reshape((1000, 4)), index=rng, columns=['A', 'B', 'C', 'hello'])\n",
    "df.head()"
   ]
  },
  {
   "cell_type": "code",
   "execution_count": 135,
   "metadata": {
    "collapsed": false
   },
   "outputs": [
    {
     "data": {
      "text/plain": [
       "Index([u'A', u'B', u'C', u'hello'], dtype='object')"
      ]
     },
     "execution_count": 135,
     "metadata": {},
     "output_type": "execute_result"
    }
   ],
   "source": [
    "df.ix['2016-07-20'].index"
   ]
  },
  {
   "cell_type": "code",
   "execution_count": 139,
   "metadata": {
    "collapsed": false
   },
   "outputs": [
    {
     "data": {
      "text/plain": [
       "2017-01-01    54\n",
       "2017-01-02    73\n",
       "2017-01-04    63\n",
       "2017-01-05    64\n",
       "Name: SD, dtype: int64"
      ]
     },
     "execution_count": 139,
     "metadata": {},
     "output_type": "execute_result"
    }
   ],
   "source": [
    "btemps = temps.SD.drop(temps.index[2])\n",
    "btemps"
   ]
  },
  {
   "cell_type": "code",
   "execution_count": 140,
   "metadata": {
    "collapsed": false
   },
   "outputs": [
    {
     "data": {
      "text/plain": [
       "2017-01-01    101\n",
       "2017-01-02     98\n",
       "2017-01-03     97\n",
       "2017-01-04    100\n",
       "2017-01-05     64\n",
       "Freq: D, dtype: int64"
      ]
     },
     "execution_count": 140,
     "metadata": {},
     "output_type": "execute_result"
    }
   ],
   "source": [
    "atemps"
   ]
  },
  {
   "cell_type": "code",
   "execution_count": 149,
   "metadata": {
    "collapsed": false
   },
   "outputs": [
    {
     "data": {
      "text/plain": [
       "2017-01-01    47\n",
       "2017-01-02    25\n",
       "2017-01-03    25\n",
       "2017-01-04    37\n",
       "2017-01-05     0\n",
       "dtype: float64"
      ]
     },
     "execution_count": 149,
     "metadata": {},
     "output_type": "execute_result"
    }
   ],
   "source": [
    "diff = atemps - btemps\n",
    "diff\n",
    "diff.fillna(method='ffill')"
   ]
  },
  {
   "cell_type": "code",
   "execution_count": null,
   "metadata": {
    "collapsed": true
   },
   "outputs": [],
   "source": []
  },
  {
   "cell_type": "code",
   "execution_count": 215,
   "metadata": {
    "collapsed": false
   },
   "outputs": [],
   "source": [
    "N = 100\n",
    "pd.date_range\n",
    "rng = pd.date_range( datetime.now(), periods=N, freq='S')\n",
    "ts = Series(np.random.randn(N), index=rng)"
   ]
  },
  {
   "cell_type": "code",
   "execution_count": 216,
   "metadata": {
    "collapsed": false
   },
   "outputs": [
    {
     "data": {
      "text/plain": [
       "DatetimeIndex(['2017-01-16 13:45:24.418688', '2017-01-16 13:45:25.418688',\n",
       "               '2017-01-16 13:45:26.418688', '2017-01-16 13:45:27.418688',\n",
       "               '2017-01-16 13:45:28.418688', '2017-01-16 13:45:29.418688',\n",
       "               '2017-01-16 13:45:30.418688', '2017-01-16 13:45:31.418688',\n",
       "               '2017-01-16 13:45:32.418688', '2017-01-16 13:45:33.418688',\n",
       "               '2017-01-16 13:45:34.418688', '2017-01-16 13:45:35.418688',\n",
       "               '2017-01-16 13:45:36.418688', '2017-01-16 13:45:37.418688',\n",
       "               '2017-01-16 13:45:38.418688', '2017-01-16 13:45:39.418688',\n",
       "               '2017-01-16 13:45:40.418688', '2017-01-16 13:45:41.418688',\n",
       "               '2017-01-16 13:45:42.418688', '2017-01-16 13:45:43.418688',\n",
       "               '2017-01-16 13:45:44.418688', '2017-01-16 13:45:45.418688',\n",
       "               '2017-01-16 13:45:46.418688', '2017-01-16 13:45:47.418688',\n",
       "               '2017-01-16 13:45:48.418688', '2017-01-16 13:45:49.418688',\n",
       "               '2017-01-16 13:45:50.418688', '2017-01-16 13:45:51.418688',\n",
       "               '2017-01-16 13:45:52.418688', '2017-01-16 13:45:53.418688',\n",
       "               '2017-01-16 13:45:54.418688', '2017-01-16 13:45:55.418688',\n",
       "               '2017-01-16 13:45:56.418688', '2017-01-16 13:45:57.418688',\n",
       "               '2017-01-16 13:45:58.418688', '2017-01-16 13:45:59.418688',\n",
       "               '2017-01-16 13:46:00.418688', '2017-01-16 13:46:01.418688',\n",
       "               '2017-01-16 13:46:02.418688', '2017-01-16 13:46:03.418688',\n",
       "               '2017-01-16 13:46:04.418688', '2017-01-16 13:46:05.418688',\n",
       "               '2017-01-16 13:46:06.418688', '2017-01-16 13:46:07.418688',\n",
       "               '2017-01-16 13:46:08.418688', '2017-01-16 13:46:09.418688',\n",
       "               '2017-01-16 13:46:10.418688', '2017-01-16 13:46:11.418688',\n",
       "               '2017-01-16 13:46:12.418688', '2017-01-16 13:46:13.418688',\n",
       "               '2017-01-16 13:46:14.418688', '2017-01-16 13:46:15.418688',\n",
       "               '2017-01-16 13:46:16.418688', '2017-01-16 13:46:17.418688',\n",
       "               '2017-01-16 13:46:18.418688', '2017-01-16 13:46:19.418688',\n",
       "               '2017-01-16 13:46:20.418688', '2017-01-16 13:46:21.418688',\n",
       "               '2017-01-16 13:46:22.418688', '2017-01-16 13:46:23.418688',\n",
       "               '2017-01-16 13:46:24.418688', '2017-01-16 13:46:25.418688',\n",
       "               '2017-01-16 13:46:26.418688', '2017-01-16 13:46:27.418688',\n",
       "               '2017-01-16 13:46:28.418688', '2017-01-16 13:46:29.418688',\n",
       "               '2017-01-16 13:46:30.418688', '2017-01-16 13:46:31.418688',\n",
       "               '2017-01-16 13:46:32.418688', '2017-01-16 13:46:33.418688',\n",
       "               '2017-01-16 13:46:34.418688', '2017-01-16 13:46:35.418688',\n",
       "               '2017-01-16 13:46:36.418688', '2017-01-16 13:46:37.418688',\n",
       "               '2017-01-16 13:46:38.418688', '2017-01-16 13:46:39.418688',\n",
       "               '2017-01-16 13:46:40.418688', '2017-01-16 13:46:41.418688',\n",
       "               '2017-01-16 13:46:42.418688', '2017-01-16 13:46:43.418688',\n",
       "               '2017-01-16 13:46:44.418688', '2017-01-16 13:46:45.418688',\n",
       "               '2017-01-16 13:46:46.418688', '2017-01-16 13:46:47.418688',\n",
       "               '2017-01-16 13:46:48.418688', '2017-01-16 13:46:49.418688',\n",
       "               '2017-01-16 13:46:50.418688', '2017-01-16 13:46:51.418688',\n",
       "               '2017-01-16 13:46:52.418688', '2017-01-16 13:46:53.418688',\n",
       "               '2017-01-16 13:46:54.418688', '2017-01-16 13:46:55.418688',\n",
       "               '2017-01-16 13:46:56.418688', '2017-01-16 13:46:57.418688',\n",
       "               '2017-01-16 13:46:58.418688', '2017-01-16 13:46:59.418688',\n",
       "               '2017-01-16 13:47:00.418688', '2017-01-16 13:47:01.418688',\n",
       "               '2017-01-16 13:47:02.418688', '2017-01-16 13:47:03.418688'],\n",
       "              dtype='datetime64[ns]', freq='S', tz=None)"
      ]
     },
     "execution_count": 216,
     "metadata": {},
     "output_type": "execute_result"
    }
   ],
   "source": [
    "ts.index"
   ]
  },
  {
   "cell_type": "code",
   "execution_count": 220,
   "metadata": {
    "collapsed": false
   },
   "outputs": [
    {
     "data": {
      "text/plain": [
       "2017-01-16 13:45:24.400000         NaN\n",
       "2017-01-16 13:45:24.600000    1.169568\n",
       "2017-01-16 13:45:24.800000    1.169568\n",
       "2017-01-16 13:45:25           1.169568\n",
       "2017-01-16 13:45:25.200000    1.169568\n",
       "2017-01-16 13:45:25.400000    1.169568\n",
       "2017-01-16 13:45:25.600000    1.132960\n",
       "2017-01-16 13:45:25.800000    1.132960\n",
       "2017-01-16 13:45:26           1.132960\n",
       "2017-01-16 13:45:26.200000    1.132960\n",
       "2017-01-16 13:45:26.400000    1.132960\n",
       "2017-01-16 13:45:26.600000   -0.437581\n",
       "2017-01-16 13:45:26.800000   -0.437581\n",
       "2017-01-16 13:45:27          -0.437581\n",
       "2017-01-16 13:45:27.200000   -0.437581\n",
       "2017-01-16 13:45:27.400000   -0.437581\n",
       "2017-01-16 13:45:27.600000   -0.703210\n",
       "2017-01-16 13:45:27.800000   -0.703210\n",
       "2017-01-16 13:45:28          -0.703210\n",
       "2017-01-16 13:45:28.200000   -0.703210\n",
       "2017-01-16 13:45:28.400000   -0.703210\n",
       "2017-01-16 13:45:28.600000    2.149712\n",
       "2017-01-16 13:45:28.800000    2.149712\n",
       "2017-01-16 13:45:29           2.149712\n",
       "2017-01-16 13:45:29.200000    2.149712\n",
       "2017-01-16 13:45:29.400000    2.149712\n",
       "2017-01-16 13:45:29.600000    0.127408\n",
       "2017-01-16 13:45:29.800000    0.127408\n",
       "2017-01-16 13:45:30           0.127408\n",
       "2017-01-16 13:45:30.200000    0.127408\n",
       "                                ...   \n",
       "2017-01-16 13:46:57.600000   -0.302813\n",
       "2017-01-16 13:46:57.800000   -0.302813\n",
       "2017-01-16 13:46:58          -0.302813\n",
       "2017-01-16 13:46:58.200000   -0.302813\n",
       "2017-01-16 13:46:58.400000   -0.302813\n",
       "2017-01-16 13:46:58.600000    0.615038\n",
       "2017-01-16 13:46:58.800000    0.615038\n",
       "2017-01-16 13:46:59           0.615038\n",
       "2017-01-16 13:46:59.200000    0.615038\n",
       "2017-01-16 13:46:59.400000    0.615038\n",
       "2017-01-16 13:46:59.600000   -0.388535\n",
       "2017-01-16 13:46:59.800000   -0.388535\n",
       "2017-01-16 13:47:00          -0.388535\n",
       "2017-01-16 13:47:00.200000   -0.388535\n",
       "2017-01-16 13:47:00.400000   -0.388535\n",
       "2017-01-16 13:47:00.600000   -0.744230\n",
       "2017-01-16 13:47:00.800000   -0.744230\n",
       "2017-01-16 13:47:01          -0.744230\n",
       "2017-01-16 13:47:01.200000   -0.744230\n",
       "2017-01-16 13:47:01.400000   -0.744230\n",
       "2017-01-16 13:47:01.600000    0.972889\n",
       "2017-01-16 13:47:01.800000    0.972889\n",
       "2017-01-16 13:47:02           0.972889\n",
       "2017-01-16 13:47:02.200000    0.972889\n",
       "2017-01-16 13:47:02.400000    0.972889\n",
       "2017-01-16 13:47:02.600000    0.846607\n",
       "2017-01-16 13:47:02.800000    0.846607\n",
       "2017-01-16 13:47:03           0.846607\n",
       "2017-01-16 13:47:03.200000    0.846607\n",
       "2017-01-16 13:47:03.400000    0.846607\n",
       "Freq: 200L, dtype: float64"
      ]
     },
     "execution_count": 220,
     "metadata": {},
     "output_type": "execute_result"
    }
   ],
   "source": [
    "ts.resample('200ms', fill_method='ffill')"
   ]
  },
  {
   "cell_type": "code",
   "execution_count": 223,
   "metadata": {
    "collapsed": false
   },
   "outputs": [],
   "source": [
    "ts.index = ts.index - ts.index[0]"
   ]
  },
  {
   "cell_type": "code",
   "execution_count": 224,
   "metadata": {
    "collapsed": false
   },
   "outputs": [
    {
     "data": {
      "text/plain": [
       "00:00:00    1.169568\n",
       "00:00:01    1.132960\n",
       "00:00:02   -0.437581\n",
       "00:00:03   -0.703210\n",
       "00:00:04    2.149712\n",
       "00:00:05    0.127408\n",
       "00:00:06   -1.207323\n",
       "00:00:07   -1.587781\n",
       "00:00:08   -0.405856\n",
       "00:00:09   -0.351976\n",
       "00:00:10   -0.958147\n",
       "00:00:11    0.847124\n",
       "00:00:12   -1.350662\n",
       "00:00:13    0.082187\n",
       "00:00:14   -1.123820\n",
       "00:00:15   -1.371014\n",
       "00:00:16   -0.697245\n",
       "00:00:17   -0.247325\n",
       "00:00:18   -0.628571\n",
       "00:00:19   -0.934636\n",
       "00:00:20   -0.051394\n",
       "00:00:21    0.308844\n",
       "00:00:22   -0.669674\n",
       "00:00:23    0.223155\n",
       "00:00:24    0.044911\n",
       "00:00:25    0.326632\n",
       "00:00:26    1.079237\n",
       "00:00:27    0.343963\n",
       "00:00:28   -0.788739\n",
       "00:00:29   -0.558037\n",
       "              ...   \n",
       "00:01:10   -0.288473\n",
       "00:01:11    2.027717\n",
       "00:01:12   -2.279385\n",
       "00:01:13    0.604041\n",
       "00:01:14   -0.343327\n",
       "00:01:15    0.581556\n",
       "00:01:16   -0.730383\n",
       "00:01:17   -2.061144\n",
       "00:01:18    0.120498\n",
       "00:01:19   -0.487687\n",
       "00:01:20    0.080975\n",
       "00:01:21    0.355065\n",
       "00:01:22    0.237049\n",
       "00:01:23   -0.873747\n",
       "00:01:24   -0.825239\n",
       "00:01:25    1.300916\n",
       "00:01:26    1.790589\n",
       "00:01:27   -1.800968\n",
       "00:01:28    1.573846\n",
       "00:01:29   -0.391103\n",
       "00:01:30   -0.273245\n",
       "00:01:31    1.912692\n",
       "00:01:32    0.711914\n",
       "00:01:33   -0.302813\n",
       "00:01:34    0.615038\n",
       "00:01:35   -0.388535\n",
       "00:01:36   -0.744230\n",
       "00:01:37    0.972889\n",
       "00:01:38    0.846607\n",
       "00:01:39    0.345160\n",
       "dtype: float64"
      ]
     },
     "execution_count": 224,
     "metadata": {},
     "output_type": "execute_result"
    }
   ],
   "source": [
    "ts"
   ]
  },
  {
   "cell_type": "code",
   "execution_count": null,
   "metadata": {
    "collapsed": true
   },
   "outputs": [],
   "source": []
  },
  {
   "cell_type": "code",
   "execution_count": 234,
   "metadata": {
    "collapsed": false
   },
   "outputs": [
    {
     "data": {
      "text/plain": [
       "Timestamp('2017-01-16 14:11:41.178195')"
      ]
     },
     "execution_count": 234,
     "metadata": {},
     "output_type": "execute_result"
    }
   ],
   "source": [
    "stamp = pd.Timestamp('now')\n",
    "stamp"
   ]
  },
  {
   "cell_type": "code",
   "execution_count": 240,
   "metadata": {
    "collapsed": false
   },
   "outputs": [
    {
     "data": {
      "text/plain": [
       "Timestamp('2017-01-16 14:11:41.178195-0800', tz='US/Pacific')"
      ]
     },
     "execution_count": 240,
     "metadata": {},
     "output_type": "execute_result"
    }
   ],
   "source": [
    "tzstamp = stamp.tz_localize('US/Pacific')\n",
    "tzstamp"
   ]
  },
  {
   "cell_type": "code",
   "execution_count": 242,
   "metadata": {
    "collapsed": false
   },
   "outputs": [
    {
     "data": {
      "text/plain": [
       "Timestamp('2017-01-16 17:11:41.178195-0500', tz='US/Eastern')"
      ]
     },
     "execution_count": 242,
     "metadata": {},
     "output_type": "execute_result"
    }
   ],
   "source": [
    "tzstamp.tz_convert('US/Eastern')"
   ]
  },
  {
   "cell_type": "code",
   "execution_count": null,
   "metadata": {
    "collapsed": true
   },
   "outputs": [],
   "source": []
  },
  {
   "cell_type": "code",
   "execution_count": null,
   "metadata": {
    "collapsed": true
   },
   "outputs": [],
   "source": []
  }
 ],
 "metadata": {
  "kernelspec": {
   "display_name": "Python 2",
   "language": "python",
   "name": "python2"
  },
  "language_info": {
   "codemirror_mode": {
    "name": "ipython",
    "version": 2
   },
   "file_extension": ".py",
   "mimetype": "text/x-python",
   "name": "python",
   "nbconvert_exporter": "python",
   "pygments_lexer": "ipython2",
   "version": "2.7.11"
  }
 },
 "nbformat": 4,
 "nbformat_minor": 2
}
