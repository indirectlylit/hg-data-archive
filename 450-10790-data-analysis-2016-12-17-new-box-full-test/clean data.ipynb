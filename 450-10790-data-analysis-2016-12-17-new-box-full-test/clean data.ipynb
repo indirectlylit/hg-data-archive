{
 "cells": [
  {
   "cell_type": "markdown",
   "metadata": {},
   "source": [
    "# First Test of New Box"
   ]
  },
  {
   "cell_type": "code",
   "execution_count": 1,
   "metadata": {
    "collapsed": true
   },
   "outputs": [],
   "source": [
    "import pandas as pd\n",
    "import numpy as np\n",
    "\n",
    "import ujson\n",
    "from pprint import pprint\n",
    "from validictory import validate"
   ]
  },
  {
   "cell_type": "markdown",
   "metadata": {},
   "source": [
    "## Load raw data"
   ]
  },
  {
   "cell_type": "code",
   "execution_count": 2,
   "metadata": {
    "collapsed": false
   },
   "outputs": [],
   "source": [
    "rawData = []\n",
    "with open(\"data/2016-12-17T19'29'25.354Z - test 1.txt\") as f:\n",
    "    for line in f:\n",
    "        rawData.append(line)\n",
    "with open(\"data/2016-12-17T20'03'28.413Z - test 2.txt\") as f:\n",
    "    for line in f:\n",
    "        rawData.append(line)"
   ]
  },
  {
   "cell_type": "markdown",
   "metadata": {},
   "source": [
    "## Scan for errors"
   ]
  },
  {
   "cell_type": "markdown",
   "metadata": {},
   "source": [
    "As shown below, there are many malformed messages. Typically they are missing a single character. They appear to only occur in the new boxes, indicating probably something wrong with the Serial-to-Ethernet converter."
   ]
  },
  {
   "cell_type": "code",
   "execution_count": 3,
   "metadata": {
    "collapsed": false
   },
   "outputs": [
    {
     "name": "stdout",
     "output_type": "stream",
     "text": [
      "could not parse message: {\"kind\": \"caps\", \"ms\": 13866137, \"shunts\": 0, \"i\": 135770, \"v\": 24.935, \"c_in\": 86.911, \"c_out_fwd\": 0.700, \"c_out_rev: 0.000, \"c_shunt\": 0.000, \"temp\": 18.375, \"fan\": false, \"error\": 0}\r\n",
      " | 10.0.0.110 | SyntaxError: Unexpected token c\n",
      "\n",
      "could not parse message: {\"kind\": \"caps\", \"ms\": 13871142, \"shunts\": 0, \"i\": 135819, \"v\": 27.665, \"c_in\": 62.511 \"c_out_fwd\": 1.797, \"c_out_rev\": 0.000, \"c_shunt\": 0.000, \"temp\": 18.375, \"fan\": false, \"error\": 0}\r\n",
      " | 10.0.0.110 | SyntaxError: Unexpected string\n",
      "\n",
      "could not parse message: {\"kind\": \"inv\", \"ms\": 14151262, \"inv\": true, \"soft\": true, v\": 25.750, \"i\": 141487}\r\n",
      " | 10.0.0.117 | SyntaxError: Unexpected token v\n",
      "\n",
      "could not parse message: {\"kind\": \"inv\" \"ms\": 14196271, \"inv\": true, \"soft\": true, \"v\": 25.521, \"i\": 141937}\r\n",
      " | 10.0.0.117 | SyntaxError: Unexpected string\n",
      "\n",
      "could not parse message: {\"kind\": \"caps\", \"ms\": 14356144, \"shunts\": 0, \"i\": 140570, \"v\": 27.375, \"c_in\": 53.454, \"c_out_fwd: 48.382, \"c_out_rev\": 0.000, \"c_shunt\": 0.000, \"temp\": 20.125, \"fan\": false, \"error\": 0}\r\n",
      " | 10.0.0.110 | SyntaxError: Unexpected token c\n",
      "\n",
      "could not parse message: {\"kind\": \"caps\", \"ms\": 14391153, \"shunts\": 0, \"i\" 140913, \"v\": 27.157, \"c_in\": 55.478, \"c_out_fwd\": 47.593, \"c_out_rev\": 0.000, \"c_shunt\": 0.000, \"temp\": 20.250, \"fan\": false, \"error\": 0}\r\n",
      " | 10.0.0.110 | SyntaxError: Unexpected number\n",
      "\n",
      "could not parse message: {\"kind\": \"caps\", \"ms\": 14526132, \"shunts\": 0, \"i\": 142235, \"v\": 26.648, \"c_in\": 51.365, \"c_out_fwd\": 53.027, \"c_out_rev\": 0.000, \"c_shunt\": 0.000, \"temp\": 21.000, \"fan\": alse, \"error\": 0}\r\n",
      " | 10.0.0.110 | SyntaxError: Unexpected token a\n",
      "\n",
      "could not parse message: {\"kind\": \"caps\", \"ms\": 14536142, \"shunts\": 0, \"i\": 142333, \"v\": 26.627, \"c_in\": 64.450, \"c_out_fwd\": 69.351, \"c_out_rev\" 0.000, \"c_shunt\": 0.000, \"temp\": 21.062, \"fan\": false, \"error\": 0}\r\n",
      " | 10.0.0.110 | SyntaxError: Unexpected number\n",
      "\n",
      "could not parse message: {\"kind\": \"inv\", \"ms\": 14681262, \"inv\": true, \"soft\": true, \"v\": 25.051, \"i\" 146786}\r\n",
      " | 10.0.0.117 | SyntaxError: Unexpected number\n",
      "\n",
      "could not parse message: {\"kind\": \"inv\", \"ms\": 14711267, \"inv\": true \"soft\": true, \"v\": 24.666, \"i\": 147086}\r\n",
      " | 10.0.0.117 | SyntaxError: Unexpected string\n",
      "\n",
      "could not parse message: {\"kind\": \"inv\", \"ms: 14731271, \"inv\": true, \"soft\": true, \"v\": 24.436, \"i\": 147286}\r\n",
      " | 10.0.0.117 | SyntaxError: Unexpected token i\n",
      "\n",
      "could not parse message: {\"kind\": \"caps\", \"ms\": 14916137, \"shunts\": 0, \"i\": 146054, \"v\": 23.321, \"c_in\": 0.000, \"c_out_fwd\": 0.583, \"c_out_rev\": 0.000, \"c_shunt\": 0.000, \"temp\": 22.625 \"fan\": false, \"error\": 0}\r\n",
      " | 10.0.0.110 | SyntaxError: Unexpected string\n",
      "\n",
      "could not parse message: {\"kind\": \"caps\", \"ms\": 16306170, \"shunts\": , \"i\": 159667, \"v\": 28.273, \"c_in\": 62.170, \"c_out_fwd\": 47.487, \"c_out_rev\": 0.000, \"c_shunt\": 28.222, \"temp\": 24.875, \"fan\": false, \"error\": 0}\r\n",
      " | 10.0.0.110 | SyntaxError: Unexpected token ,\n",
      "\n",
      "could not parse message: {\"kind\": \"caps\", \"ms\": 16321165, \"shunts\": 2, \"i\": 159814, \"v\": 27.816 \"c_in\": 57.758, \"c_out_fwd\": 51.962, \"c_out_rev\": 0.000, \"c_shunt\": 18.334, \"temp\": 24.875, \"fan\": false, \"error\": 0}\r\n",
      " | 10.0.0.110 | SyntaxError: Unexpected string\n",
      "\n",
      "could not parse message: {\"kind\": \"inv\", \"ms\": 16331270, \"inv\": true, \"soft\": rue, \"v\": 28.140, \"i\": 163283}\r\n",
      " | 10.0.0.117 | SyntaxError: Unexpected token r\n",
      "\n",
      "No data buffer for kind: iv\n",
      "\n",
      "No data buffer for kind: cap\n",
      "\n",
      "could not parse message: {\"kind\": \"caps\", \"ms\": 16711147, \"shunts\": 0, \"i\": 163634, \"v\": 27.629, \"c_in\": 42.010, \"c_out_fwd\": 50.215, \"c_out_rev\": 0.000, \"c_shunt\": 0.000, \"temp\": 28.750, \"fan\": false, \"error\": 0\r\n",
      " | 10.0.0.110 | SyntaxError: Unexpected end of input\n",
      "\n",
      "could not parse message: {\"kind\": \"caps\", \"ms\": 16716151, \"shunts\": 0, \"i\": 163683, \"v\": 27.494, \"c_in\": 41.520, \"c_out_fwd\": 42.053, \"c_out_rev\": 0.000, \"c_shunt\": 0.000, \"temp\": 28.750, fan\": false, \"error\": 0}\r\n",
      " | 10.0.0.110 | SyntaxError: Unexpected token f\n",
      "\n",
      "could not parse message: {\"kind\": \"caps\", \"ms\": 16741171, \"shunts\": 2, \"i\" 163928, \"v\": 28.195, \"c_in\": 60.103, \"c_out_fwd\": 41.818, \"c_out_rev\": 0.000, \"c_shunt\": 18.590, \"temp\": 29.000, \"fan\": false, \"error\": 0}\r\n",
      " | 10.0.0.110 | SyntaxError: Unexpected number\n",
      "\n",
      "could not parse message: {\"kind\": caps\", \"ms\": 16756177, \"shunts\": 0, \"i\": 164075, \"v\": 26.030, \"c_in\": 23.427, \"c_out_fwd\": 45.441, \"c_out_rev\": 0.000, \"c_shunt\": 0.000, \"temp\": 29.187, \"fan\": false, \"error\": 0}\r\n",
      " | 10.0.0.110 | SyntaxError: Unexpected token c\n",
      "\n",
      "could not parse message: {\"kind\": \"inv\", \"ms\": 16851266, \"inv\": true, \"soft\": true, \"v\": 24.447 \"i\": 168482}\r\n",
      " | 10.0.0.117 | SyntaxError: Unexpected string\n",
      "\n",
      "could not parse message: {\"kind\": \"inv\", ms\": 16901275, \"inv\": true, \"soft\": true, \"v\": 25.644, \"i\": 168982}\r\n",
      " | 10.0.0.117 | SyntaxError: Unexpected token m\n",
      "\n",
      "No data buffer for kind: \n",
      "\n",
      "could not parse message: {\"kind\": \"caps\", \"ms\": 17221157, \"shunts\": 0, \"i\": 168630, \"v\": 24.868, \"c_in\": 39.666, \"c_out_fwd\": 25.857, \"c_out_rev\": 0.000, \"c_shunt\": 0.000 \"temp\": 32.187, \"fan\": false, \"error\": 0}\r\n",
      " | 10.0.0.110 | SyntaxError: Unexpected string\n",
      "\n"
     ]
    }
   ],
   "source": [
    "for err in [ujson.loads(line)['data'] for line in rawData if 'serverlog' in line]:\n",
    "    if err['level'] == 'ERROR':\n",
    "        print err['message']\n",
    "        print"
   ]
  },
  {
   "cell_type": "markdown",
   "metadata": {},
   "source": [
    "## Scan for invalid data"
   ]
  },
  {
   "cell_type": "markdown",
   "metadata": {},
   "source": [
    "The errors above caught messages that could not be parsed. However, there could easily be messages that parsed correctly, but dropped other characters (in the keys and values). Here, we try to find those instances."
   ]
  },
  {
   "cell_type": "markdown",
   "metadata": {},
   "source": [
    "### Parse and organize the data"
   ]
  },
  {
   "cell_type": "code",
   "execution_count": 4,
   "metadata": {
    "collapsed": false,
    "scrolled": false
   },
   "outputs": [],
   "source": [
    "parsedData = {}\n",
    "\n",
    "for entry in [ujson.loads(line) for line in rawData]:\n",
    "    if not parsedData.get(entry['chan']):\n",
    "        parsedData[entry['chan']] = []\n",
    "    parsedData[entry['chan']].append(entry)"
   ]
  },
  {
   "cell_type": "code",
   "execution_count": 5,
   "metadata": {
    "collapsed": false
   },
   "outputs": [
    {
     "name": "stdout",
     "output_type": "stream",
     "text": [
      "serverlog\n",
      "{u'chan': u'serverlog',\n",
      " u'data': {u'level': u'ERROR',\n",
      "           u'message': u'could not parse message: {\"kind\": \"caps\", \"ms\": 17221157, \"shunts\": 0, \"i\": 168630, \"v\": 24.868, \"c_in\": 39.666, \"c_out_fwd\": 25.857, \"c_out_rev\": 0.000, \"c_shunt\": 0.000 \"temp\": 32.187, \"fan\": false, \"error\": 0}\\r\\n | 10.0.0.110 | SyntaxError: Unexpected string'},\n",
      " u'time': u'2016-12-17T20:25:33.351Z'}\n",
      "\n",
      "logger.state.clap\n",
      "{u'chan': u'logger.state.clap',\n",
      " u'data': True,\n",
      " u'time': u'2016-12-17T20:23:38.369Z'}\n",
      "\n",
      "stats.network\n",
      "{u'chan': u'stats.network',\n",
      " u'data': {u'4-ac': [{u'c_ckts': [0.028, 0.028, 0.028, 0.028],\n",
      "                      u'device_id': u'10459',\n",
      "                      u'labels': [u'T4 Sub L',\n",
      "                                  u'T4 Sub R',\n",
      "                                  u'T4 J Lights L',\n",
      "                                  u'T4 J Lights R'],\n",
      "                      u'v': 2.624},\n",
      "                     {u'c_ckts': [0.028, 0.028, 0.028, 0.028],\n",
      "                      u'device_id': u'11916',\n",
      "                      u'labels': [u'T1 XL Spkr L',\n",
      "                                  u'T1 XL Spkr R',\n",
      "                                  u'T1 Lights L',\n",
      "                                  u'T1 Lights R'],\n",
      "                      u'v': 2.624},\n",
      "                     {u'c_ckts': [0.028, 0.028, 0.028, 0.028],\n",
      "                      u'device_id': u'28064',\n",
      "                      u'labels': [u'T3 M Spkr L',\n",
      "                                  u'T3 M Spkr R',\n",
      "                                  u'T3 Lamp L',\n",
      "                                  u'T3 Lamp R'],\n",
      "                      u'v': 2.624},\n",
      "                     {u'c_ckts': [0.028, 0.028, 0.028, 0.028],\n",
      "                      u'device_id': u'07865',\n",
      "                      u'labels': [u'T2 LG Spkr L',\n",
      "                                  u'T2 LG Spkr R',\n",
      "                                  u'T2 S Spkr R',\n",
      "                                  u'T2 S Spkr L'],\n",
      "                      u'v': 2.624}],\n",
      "           u'acnet': [{u'c_tiers': [0, 0, 0, 0],\n",
      "                       u'device_id': u'0000',\n",
      "                       u'numTiers': 4,\n",
      "                       u'temp': 32.589,\n",
      "                       u'tierSense': [False, False, False, False],\n",
      "                       u'tiersOn': 0,\n",
      "                       u'v_ac': 27.8}],\n",
      "           u'bike': [{u'c_out': 0.066,\n",
      "                      u'device_id': u'12582',\n",
      "                      u'label': u'Bike 07',\n",
      "                      u'v': 23.809},\n",
      "                     {u'c_out': 0.066,\n",
      "                      u'device_id': u'12602',\n",
      "                      u'label': u'Bike 10',\n",
      "                      u'v': 23.795},\n",
      "                     {u'c_out': 0.066,\n",
      "                      u'device_id': u'13946',\n",
      "                      u'label': u'Bike 08',\n",
      "                      u'v': 23.81},\n",
      "                     {u'c_out': 0.066,\n",
      "                      u'device_id': u'18185',\n",
      "                      u'label': u'Bike 16',\n",
      "                      u'v': 23.81},\n",
      "                     {u'c_out': 0.066,\n",
      "                      u'device_id': u'18754',\n",
      "                      u'label': u'Bike 02',\n",
      "                      u'v': 23.806},\n",
      "                     {u'c_out': 0.066,\n",
      "                      u'device_id': u'19096',\n",
      "                      u'label': u'Bike 09',\n",
      "                      u'v': 23.81},\n",
      "                     {u'c_out': 0.066,\n",
      "                      u'device_id': u'20371',\n",
      "                      u'label': u'Bike 04',\n",
      "                      u'v': 23.81},\n",
      "                     {u'c_out': 0.066,\n",
      "                      u'device_id': u'22014',\n",
      "                      u'label': u'Bike 06',\n",
      "                      u'v': 23.773},\n",
      "                     {u'c_out': 0.066,\n",
      "                      u'device_id': u'25621',\n",
      "                      u'label': u'Bike 03',\n",
      "                      u'v': 23.792},\n",
      "                     {u'c_out': 0.066,\n",
      "                      u'device_id': u'28613',\n",
      "                      u'label': u'Bike 15',\n",
      "                      u'v': 23.81},\n",
      "                     {u'c_out': 0.128,\n",
      "                      u'device_id': u'30594',\n",
      "                      u'label': u'Bike 13',\n",
      "                      u'v': 23.817},\n",
      "                     {u'c_out': 0.066,\n",
      "                      u'device_id': u'00427',\n",
      "                      u'label': u'Bike 11',\n",
      "                      u'v': 23.775},\n",
      "                     {u'c_out': 0.066,\n",
      "                      u'device_id': u'08108',\n",
      "                      u'label': u'Bike 12',\n",
      "                      u'v': 23.81},\n",
      "                     {u'c_out': 0.069,\n",
      "                      u'device_id': u'07783',\n",
      "                      u'label': u'Bike 14',\n",
      "                      u'v': 23.81},\n",
      "                     {u'c_out': 0.066,\n",
      "                      u'device_id': u'01267',\n",
      "                      u'label': u'Bike 01',\n",
      "                      u'v': 23.791},\n",
      "                     {u'c_out': 0.066,\n",
      "                      u'device_id': u'08004',\n",
      "                      u'label': u'Bike 05',\n",
      "                      u'v': 23.773}],\n",
      "           u'caps': [{u'c_in': 0,\n",
      "                      u'c_out_fwd': 0.545,\n",
      "                      u'c_out_rev': 0,\n",
      "                      u'c_shunt': 0,\n",
      "                      u'device_id': u'0000',\n",
      "                      u'shunts': 0,\n",
      "                      u'temp': 32.166,\n",
      "                      u'v': 23.757}],\n",
      "           u'inv': [{u'device_id': u'0000', u'inv': False, u'soft': False}]},\n",
      " u'time': u'2016-12-17T20:26:41.937Z'}\n",
      "\n",
      "network.data\n",
      "{u'chan': u'network.data',\n",
      " u'data': {u'address': u'10.0.0.131',\n",
      "           u'msg': {u'c_bits': 0,\n",
      "                    u'c_out': 0.066,\n",
      "                    u'i': 172357,\n",
      "                    u'kind': u'bike',\n",
      "                    u'ms': 17276876,\n",
      "                    u'uid': u'25621',\n",
      "                    u'v': 23.784,\n",
      "                    u'v_bits': 650.286,\n",
      "                    u'vers': u'v0.3.1'},\n",
      "           u'size': 144},\n",
      " u'time': u'2016-12-17T20:26:42.204Z'}\n",
      "\n",
      "stats.labels\n",
      "{u'chan': u'stats.labels',\n",
      " u'data': {u'4-ac': {u'07865': [u'T2 LG Spkr L',\n",
      "                                u'T2 LG Spkr R',\n",
      "                                u'T2 S Spkr R',\n",
      "                                u'T2 S Spkr L'],\n",
      "                     u'10459': [u'T4 Sub L',\n",
      "                                u'T4 Sub R',\n",
      "                                u'T4 J Lights L',\n",
      "                                u'T4 J Lights R'],\n",
      "                     u'11916': [u'T1 XL Spkr L',\n",
      "                                u'T1 XL Spkr R',\n",
      "                                u'T1 Lights L',\n",
      "                                u'T1 Lights R'],\n",
      "                     u'28064': [u'T3 M Spkr L',\n",
      "                                u'T3 M Spkr R',\n",
      "                                u'T3 Lamp L',\n",
      "                                u'T3 Lamp R']},\n",
      "           u'bike': {u'00427': [u'Bike 11'],\n",
      "                     u'01267': [u'Bike 01'],\n",
      "                     u'01683': [None],\n",
      "                     u'07783': [u'Bike 14'],\n",
      "                     u'08004': [u'Bike 05'],\n",
      "                     u'08108': [u'Bike 12'],\n",
      "                     u'12582': [u'Bike 07'],\n",
      "                     u'12602': [u'Bike 10'],\n",
      "                     u'13946': [u'Bike 08'],\n",
      "                     u'17132': [None],\n",
      "                     u'18185': [u'Bike 16'],\n",
      "                     u'18754': [u'Bike 02'],\n",
      "                     u'19096': [u'Bike 09'],\n",
      "                     u'20371': [u'Bike 04'],\n",
      "                     u'22014': [u'Bike 06'],\n",
      "                     u'25621': [u'Bike 03'],\n",
      "                     u'28613': [u'Bike 15'],\n",
      "                     u'30594': [u'Bike 13']}},\n",
      " u'time': u'2016-12-17T20:26:39.659Z'}\n",
      "\n",
      "stats.server\n",
      "{u'chan': u'stats.server',\n",
      " u'data': {u'appUptime': 83721995,\n",
      "           u'arch': u'arm',\n",
      "           u'freedisk': 120686432,\n",
      "           u'freemem': 174024,\n",
      "           u'loadavg': [1.12890625, 1.13232421875, 1.15185546875],\n",
      "           u'logs_overloaded': False,\n",
      "           u'time': 1482006401747L,\n",
      "           u'totaldisk': 120867872,\n",
      "           u'totalmem': 509016,\n",
      "           u'uptime': 12609},\n",
      " u'time': u'2016-12-17T20:26:41.749Z'}\n",
      "\n",
      "logger.state.recording_state\n",
      "{u'chan': u'logger.state.recording_state',\n",
      " u'data': {u'exists': True,\n",
      "           u'kbytes': 77578.6318359375,\n",
      "           u'recording': True,\n",
      "           u'time': 1393347},\n",
      " u'time': u'2016-12-17T20:26:41.760Z'}\n",
      "\n"
     ]
    }
   ],
   "source": [
    "for k in parsedData.keys():\n",
    "    print k\n",
    "    pprint(parsedData[k][-1])\n",
    "    print"
   ]
  },
  {
   "cell_type": "markdown",
   "metadata": {},
   "source": [
    "### Define schemas for basic validation"
   ]
  },
  {
   "cell_type": "code",
   "execution_count": 6,
   "metadata": {
    "collapsed": true
   },
   "outputs": [],
   "source": [
    "wrapperSchema = {\n",
    "    'type': 'object',\n",
    "    'properties': {\n",
    "        'chan': { 'type': 'string' },\n",
    "        'data': {},\n",
    "        'time': { 'type': 'string' },\n",
    "    },\n",
    "    'additionalProperties': False,\n",
    "    'minProperties': 3,\n",
    "}\n",
    "validate(parsedData['serverlog'][0], wrapperSchema)"
   ]
  },
  {
   "cell_type": "code",
   "execution_count": 7,
   "metadata": {
    "collapsed": false,
    "scrolled": false
   },
   "outputs": [
    {
     "name": "stdout",
     "output_type": "stream",
     "text": [
      "validating wrappers for serverlog\n",
      "validating wrappers for logger.state.clap\n",
      "validating wrappers for stats.network\n",
      "validating wrappers for network.data\n",
      "validating wrappers for stats.labels\n",
      "validating wrappers for stats.server\n",
      "validating wrappers for logger.state.recording_state\n"
     ]
    }
   ],
   "source": [
    "for k in parsedData:\n",
    "    print 'validating wrappers for', k\n",
    "    for entry in parsedData[k]:\n",
    "        validate(entry, wrapperSchema)"
   ]
  },
  {
   "cell_type": "code",
   "execution_count": 8,
   "metadata": {
    "collapsed": false
   },
   "outputs": [],
   "source": [
    "serverLogDataSchema = {\n",
    "    'type': 'object',\n",
    "    'properties': {\n",
    "        'level': { 'type': 'string' },\n",
    "        'message': { 'type': 'string' },\n",
    "    },\n",
    "    'additionalProperties': False,\n",
    "    'minProperties': 2,\n",
    "}\n",
    "validate(parsedData['serverlog'][0]['data'], serverLogDataSchema)"
   ]
  },
  {
   "cell_type": "code",
   "execution_count": 9,
   "metadata": {
    "collapsed": false
   },
   "outputs": [],
   "source": [
    "for entry in parsedData['serverlog']:\n",
    "    validate(entry['data'], serverLogDataSchema)"
   ]
  },
  {
   "cell_type": "code",
   "execution_count": 10,
   "metadata": {
    "collapsed": false
   },
   "outputs": [],
   "source": [
    "serverStatsDataSchema = {\n",
    "    'type': 'object',\n",
    "    'properties': {\n",
    "        'appUptime': { 'type': 'integer' },\n",
    "        'arch': { 'type': 'string' },\n",
    "        'freedisk': { 'type': 'integer' },\n",
    "        'freemem': { 'type': 'integer' },\n",
    "        'loadavg': { 'type': 'array' },\n",
    "        'logs_overloaded': { 'type': 'boolean' },\n",
    "        'time': { 'type': 'integer' },\n",
    "        'totaldisk': { 'type': 'integer' },\n",
    "        'totalmem': { 'type': 'integer' },\n",
    "        'uptime': { 'type': 'integer' },\n",
    "    },\n",
    "    'additionalProperties': False,\n",
    "    'minProperties': 10,\n",
    "}\n",
    "validate(parsedData['stats.server'][0]['data'], serverStatsDataSchema)"
   ]
  },
  {
   "cell_type": "code",
   "execution_count": 11,
   "metadata": {
    "collapsed": true
   },
   "outputs": [],
   "source": [
    "for entry in parsedData['stats.server']:\n",
    "    validate(entry['data'], serverStatsDataSchema)"
   ]
  },
  {
   "cell_type": "code",
   "execution_count": 12,
   "metadata": {
    "collapsed": false
   },
   "outputs": [],
   "source": [
    "basicNetworkDataSchema = {\n",
    "    'type': 'object',\n",
    "    'properties': {\n",
    "        'address': { 'type': 'string' },\n",
    "        'msg': {\n",
    "            'type': 'object',\n",
    "            'properties': { 'kind': { 'type': 'string' } },\n",
    "            'required': [ 'kind' ],\n",
    "        },\n",
    "        'size': { 'type': 'integer' },\n",
    "    },\n",
    "    'additionalProperties': False,\n",
    "    'minProperties': 3,\n",
    "}\n",
    "validate(parsedData['network.data'][0]['data'], basicNetworkDataSchema)"
   ]
  },
  {
   "cell_type": "code",
   "execution_count": 13,
   "metadata": {
    "collapsed": false
   },
   "outputs": [
    {
     "name": "stdout",
     "output_type": "stream",
     "text": [
      "ERROR on {u'data': {u'msg': {u'uid': u'0000', u'i': 169132, u'knd': u'inv', u'ms': 16916278, u'v': 26.747, u'soft': True, u'inv': True}, u'size': 85, u'address': u'10.0.0.117'}, u'chan': u'network.data', u'time': u'2016-12-17T20:20:28.320Z'}\n",
      "Required field 'kind' is missing\n"
     ]
    }
   ],
   "source": [
    "for entry in parsedData['network.data']:\n",
    "    try:\n",
    "        validate(entry['data'], basicNetworkDataSchema)\n",
    "    except Exception, err:\n",
    "        print \"ERROR on\", entry\n",
    "        print err"
   ]
  },
  {
   "cell_type": "markdown",
   "metadata": {},
   "source": [
    "### Validate various kinds of network data"
   ]
  },
  {
   "cell_type": "code",
   "execution_count": 14,
   "metadata": {
    "collapsed": false
   },
   "outputs": [
    {
     "name": "stdout",
     "output_type": "stream",
     "text": [
      "ERROR - unknown kind iv\n",
      "{u'data': {u'msg': {u'kind': u'iv', u'uid': u'0000', u'i': 163633, u'inv': True, u'ms': 16366276, u'v': 28.114, u'soft': True}, u'size': 85, u'address': u'10.0.0.117'}, u'chan': u'network.data', u'time': u'2016-12-17T20:11:18.303Z'}\n",
      "\n",
      "ERROR - unknown kind cap\n",
      "{u'data': {u'msg': {u'kind': u'cap', u'error': 0, u'uid': u'0000', u'temp': 27.625, u'i': 162704, u'c_in': 53.795, u'fan': False, u'shunts': 1, u'ms': 16616176, u'v': 28.185, u'c_shunt': 9.107, u'c_out_fwd': 47.38, u'c_out_rev': 0}, u'size': 188, u'address': u'10.0.0.110'}, u'chan': u'network.data', u'time': u'2016-12-17T20:15:28.366Z'}\n",
      "\n"
     ]
    }
   ],
   "source": [
    "knownKinds = ['caps', 'inv', 'acnet', 'bike', '4-ac']\n",
    "\n",
    "parsedNetworkData = {}\n",
    "for entry in parsedData['network.data']:\n",
    "    if not entry['data']['msg'].get('kind'): # should not happen\n",
    "        continue\n",
    "    kind = entry['data']['msg']['kind']\n",
    "    if kind not in knownKinds:\n",
    "        print \"ERROR - unknown kind\", kind\n",
    "        print entry\n",
    "        print\n",
    "        continue\n",
    "    if not parsedNetworkData.get(kind):\n",
    "        parsedNetworkData[kind] = []\n",
    "    parsedNetworkData[kind].append(entry)"
   ]
  },
  {
   "cell_type": "code",
   "execution_count": 15,
   "metadata": {
    "collapsed": false,
    "scrolled": true
   },
   "outputs": [
    {
     "name": "stdout",
     "output_type": "stream",
     "text": [
      "4-ac\n",
      "{u'chan': u'network.data',\n",
      " u'data': {u'address': u'10.0.0.129',\n",
      "           u'msg': {u'c_1': 0.028,\n",
      "                    u'c_2': 0.028,\n",
      "                    u'c_3': 0.028,\n",
      "                    u'c_4': 0.028,\n",
      "                    u'i': 172213,\n",
      "                    u'kind': u'4-ac',\n",
      "                    u'ms': 17285817,\n",
      "                    u'uid': u'10459',\n",
      "                    u'v': 2.624,\n",
      "                    u'vers': u'v0.1.1'},\n",
      "           u'size': 148},\n",
      " u'time': u'2016-12-17T20:26:42.198Z'}\n",
      "\n",
      "inv\n",
      "{u'chan': u'network.data',\n",
      " u'data': {u'address': u'10.0.0.117',\n",
      "           u'msg': {u'i': 172870,\n",
      "                    u'inv': False,\n",
      "                    u'kind': u'inv',\n",
      "                    u'ms': 17290147,\n",
      "                    u'soft': False,\n",
      "                    u'uid': u'0000',\n",
      "                    u'v': 23.785},\n",
      "           u'size': 88},\n",
      " u'time': u'2016-12-17T20:26:42.191Z'}\n",
      "\n",
      "bike\n",
      "{u'chan': u'network.data',\n",
      " u'data': {u'address': u'10.0.0.131',\n",
      "           u'msg': {u'c_bits': 0,\n",
      "                    u'c_out': 0.066,\n",
      "                    u'i': 172357,\n",
      "                    u'kind': u'bike',\n",
      "                    u'ms': 17276876,\n",
      "                    u'uid': u'25621',\n",
      "                    u'v': 23.784,\n",
      "                    u'v_bits': 650.286,\n",
      "                    u'vers': u'v0.3.1'},\n",
      "           u'size': 144},\n",
      " u'time': u'2016-12-17T20:26:42.204Z'}\n",
      "\n",
      "acnet\n",
      "{u'chan': u'network.data',\n",
      " u'data': {u'address': u'serial',\n",
      "           u'msg': {u'btn': 0,\n",
      "                    u'c_t1': 0,\n",
      "                    u'c_t2': 0,\n",
      "                    u'c_t3': 0,\n",
      "                    u'c_t4': 0,\n",
      "                    u'error': 0,\n",
      "                    u'fan': False,\n",
      "                    u'i': 172694,\n",
      "                    u'kind': u'acnet',\n",
      "                    u'ms': 17285433,\n",
      "                    u'reset': 1,\n",
      "                    u'server': 0,\n",
      "                    u'temp': 32.625,\n",
      "                    u'tiers': 0,\n",
      "                    u'uid': u'0000',\n",
      "                    u'v_ac': 0,\n",
      "                    u'v_dc': 23.751,\n",
      "                    u'v_t1': False,\n",
      "                    u'v_t2': False,\n",
      "                    u'v_t3': False,\n",
      "                    u'v_t4': False},\n",
      "           u'size': 287},\n",
      " u'time': u'2016-12-17T20:26:42.174Z'}\n",
      "\n",
      "caps\n",
      "{u'chan': u'network.data',\n",
      " u'data': {u'address': u'10.0.0.110',\n",
      "           u'msg': {u'c_in': 0,\n",
      "                    u'c_out_fwd': 0.40800000000000003,\n",
      "                    u'c_out_rev': 0,\n",
      "                    u'c_shunt': 0,\n",
      "                    u'error': 0,\n",
      "                    u'fan': False,\n",
      "                    u'i': 169304,\n",
      "                    u'kind': u'caps',\n",
      "                    u'ms': 17289933,\n",
      "                    u'shunts': 0,\n",
      "                    u'temp': 32.187,\n",
      "                    u'uid': u'0000',\n",
      "                    u'v': 23.757},\n",
      "           u'size': 188},\n",
      " u'time': u'2016-12-17T20:26:42.121Z'}\n",
      "\n"
     ]
    }
   ],
   "source": [
    "for k in parsedNetworkData.keys():\n",
    "    print k\n",
    "    pprint(parsedNetworkData[k][-1])\n",
    "    print"
   ]
  },
  {
   "cell_type": "code",
   "execution_count": 16,
   "metadata": {
    "collapsed": true
   },
   "outputs": [],
   "source": [
    "msgSchemas = {}"
   ]
  },
  {
   "cell_type": "code",
   "execution_count": 17,
   "metadata": {
    "collapsed": true
   },
   "outputs": [],
   "source": [
    "msgSchemas['inv'] = {\n",
    "    'type': 'object',\n",
    "    'properties': {\n",
    "        'i': { 'type': 'integer' },\n",
    "        'inv': { 'type': 'boolean' },\n",
    "        'kind': { 'type': 'string' },\n",
    "        'ms': { 'type': 'integer' },\n",
    "        'soft': { 'type': 'boolean' },\n",
    "        'uid': { 'type': 'string' },\n",
    "        'v': { 'type': 'number' },\n",
    "    },\n",
    "    'additionalProperties': False,\n",
    "    'minProperties': 7,\n",
    "}\n",
    "validate(parsedNetworkData['inv'][0]['data']['msg'], msgSchemas['inv'])"
   ]
  },
  {
   "cell_type": "code",
   "execution_count": 18,
   "metadata": {
    "collapsed": false
   },
   "outputs": [],
   "source": [
    "msgSchemas['caps'] = {\n",
    "    'type': 'object',\n",
    "    'properties': {\n",
    "        'c_in': { 'type': 'number' },\n",
    "        'c_out_fwd': { 'type': 'number' },\n",
    "        'c_out_rev': { 'type': 'number' },\n",
    "        'c_shunt': { 'type': 'number' },\n",
    "        'error': { 'type': 'integer' },\n",
    "        'fan': { 'type': 'boolean' },\n",
    "        'i': { 'type': 'integer' },\n",
    "        'kind': { 'type': 'string' },\n",
    "        'ms': { 'type': 'integer' },\n",
    "        'shunts': { 'type': 'integer' },\n",
    "        'temp': { 'type': 'number' },\n",
    "        'uid': { 'type': 'string' },\n",
    "        'v': { 'type': 'number' },\n",
    "    },\n",
    "    'additionalProperties': False,\n",
    "    'minProperties': 13,\n",
    "}\n",
    "validate(parsedNetworkData['caps'][0]['data']['msg'], msgSchemas['caps'])"
   ]
  },
  {
   "cell_type": "code",
   "execution_count": 19,
   "metadata": {
    "collapsed": true
   },
   "outputs": [],
   "source": [
    "msgSchemas['acnet'] = {\n",
    "    'type': 'object',\n",
    "    'properties': {\n",
    "        'btn': { 'type': 'integer' },\n",
    "        'c_t1': { 'type': 'number' },\n",
    "        'c_t2': { 'type': 'number' },\n",
    "        'c_t3': { 'type': 'number' },\n",
    "        'c_t4': { 'type': 'number' },\n",
    "        'error': { 'type': 'integer' },\n",
    "        'fan': { 'type': 'boolean' },\n",
    "        'i': { 'type': 'integer' },\n",
    "        'kind': { 'type': 'string' },\n",
    "        'ms': { 'type': 'integer' },\n",
    "        'reset': { 'type': 'integer' },\n",
    "        'server': { 'type': 'integer' },\n",
    "        'temp': { 'type': 'number' },\n",
    "        'tiers': { 'type': 'integer' },\n",
    "        'uid': { 'type': 'string' },\n",
    "        'v_ac': { 'type': 'number' },\n",
    "        'v_dc': { 'type': 'number' },\n",
    "        'v_t1': { 'type': 'boolean' },\n",
    "        'v_t2': { 'type': 'boolean' },\n",
    "        'v_t3': { 'type': 'boolean' },\n",
    "        'v_t4': { 'type': 'boolean' },\n",
    "    },\n",
    "    'additionalProperties': False,\n",
    "    'minProperties': 21,\n",
    "}\n",
    "validate(parsedNetworkData['acnet'][0]['data']['msg'], msgSchemas['acnet'])"
   ]
  },
  {
   "cell_type": "code",
   "execution_count": 20,
   "metadata": {
    "collapsed": false
   },
   "outputs": [],
   "source": [
    "msgSchemas['bike'] = {\n",
    "    'type': 'object',\n",
    "    'properties': {\n",
    "        'c_bits': { 'type': 'number' },\n",
    "        'c_out': { 'type': 'number' },\n",
    "        'i': { 'type': 'integer' },\n",
    "        'kind': { 'type': 'string' },\n",
    "        'ms': { 'type': 'integer' },\n",
    "        'uid': { 'type': 'string' },\n",
    "        'v': { 'type': 'number' },\n",
    "        'v_bits': { 'type': 'number' },\n",
    "        'vers': { 'type': 'string' },\n",
    "    },\n",
    "    'additionalProperties': False,\n",
    "    'minProperties': 9,\n",
    "}\n",
    "validate(parsedNetworkData['bike'][0]['data']['msg'], msgSchemas['bike'])"
   ]
  },
  {
   "cell_type": "code",
   "execution_count": 21,
   "metadata": {
    "collapsed": false
   },
   "outputs": [],
   "source": [
    "msgSchemas['4-ac'] = {\n",
    "    'type': 'object',\n",
    "    'properties': {\n",
    "        'c_1': { 'type': 'number' },\n",
    "        'c_2': { 'type': 'number' },\n",
    "        'c_3': { 'type': 'number' },\n",
    "        'c_4': { 'type': 'number' },\n",
    "        'i': { 'type': 'integer' },\n",
    "        'kind': { 'type': 'string' },\n",
    "        'ms': { 'type': 'integer' },\n",
    "        'uid': { 'type': 'string' },\n",
    "        'v': { 'type': 'number' },\n",
    "        'vers': { 'type': 'string' },\n",
    "    },\n",
    "    'additionalProperties': False,\n",
    "    'minProperties': 10,\n",
    "}\n",
    "validate(parsedNetworkData['4-ac'][0]['data']['msg'], msgSchemas['4-ac'])"
   ]
  },
  {
   "cell_type": "code",
   "execution_count": 22,
   "metadata": {
    "collapsed": false
   },
   "outputs": [
    {
     "name": "stdout",
     "output_type": "stream",
     "text": [
      "ERROR on  {u'data': {u'msg': {u'kind': u'caps', u'error': 0, u'uid': u'0000', u'temp': 18.312, u'i': 135721, u'c_in': 0, u'c_shnt': 0, u'fan': False, u'shunts': 0, u'ms': 13861135, u'v': 22.594, u'c_out_fwd': 0.554, u'c_out_rev': 0}, u'size': 187, u'address': u'10.0.0.110'}, u'chan': u'network.data', u'time': u'2016-12-17T19:29:33.187Z'}\n",
      "Value {u'kind': u'caps', u'error': 0, u'uid': u'0000', u'temp': 18.312, u'i': 135721, u'c_in': 0, u'c_shnt': 0, u'fan': False, u'shunts': 0, u'ms': 13861135, u'v': 22.594, u'c_out_fwd': 0.554, u'c_out_rev': 0} for field '<obj>' contains additional property 'c_shnt' not defined by 'properties' or 'patternProperties' and additionalProperties  is False\n",
      "\n",
      "ERROR on  {u'data': {u'msg': {u'kind': u'caps', u'error': 0, u'uid': u'0000', u'temp': 19.187, u'i': 138513, u'c_in': 56.778, u'cout_fwd': 51.941, u'fan': False, u'shunts': 0, u'ms': 14146145, u'v': 26.456, u'c_shunt': 0, u'c_out_rev': 0}, u'size': 189, u'address': u'10.0.0.110'}, u'chan': u'network.data', u'time': u'2016-12-17T19:34:18.213Z'}\n",
      "Value {u'kind': u'caps', u'error': 0, u'uid': u'0000', u'temp': 19.187, u'i': 138513, u'c_in': 56.778, u'cout_fwd': 51.941, u'fan': False, u'shunts': 0, u'ms': 14146145, u'v': 26.456, u'c_shunt': 0, u'c_out_rev': 0} for field '<obj>' contains additional property 'cout_fwd' not defined by 'properties' or 'patternProperties' and additionalProperties  is False\n",
      "\n",
      "ERROR on  {u'data': {u'msg': {u'kind': u'caps', u'uid': u'0000', u'temp': 20, u'i': 140276, u'c_in': 52.218, u'fan': False, u'shunts': 1, u'ms': 14326130, u'v': 27.78, u'c_shunt': 9.213, u'c_out_fwd': 47.743, u'eror': 0, u'c_out_rev': 0}, u'size': 189, u'address': u'10.0.0.110'}, u'chan': u'network.data', u'time': u'2016-12-17T19:37:18.201Z'}\n",
      "Value {u'kind': u'caps', u'uid': u'0000', u'temp': 20, u'i': 140276, u'c_in': 52.218, u'fan': False, u'shunts': 1, u'ms': 14326130, u'v': 27.78, u'c_shunt': 9.213, u'c_out_fwd': 47.743, u'eror': 0, u'c_out_rev': 0} for field '<obj>' contains additional property 'eror' not defined by 'properties' or 'patternProperties' and additionalProperties  is False\n",
      "\n",
      "ERROR on  {u'data': {u'msg': {u'kind': u'caps', u'uid': u'0000', u'temp': 20, u'i': 140374, u'c_in': 40.263, u'fan': False, u'shunts': 0, u'ms': 14336131, u'v': 27.65, u'c_shunt': 0, u'c_out_fwd': 55.436, u'eror': 0, u'c_out_rev': 0}, u'size': 189, u'address': u'10.0.0.110'}, u'chan': u'network.data', u'time': u'2016-12-17T19:37:28.201Z'}\n",
      "Value {u'kind': u'caps', u'uid': u'0000', u'temp': 20, u'i': 140374, u'c_in': 40.263, u'fan': False, u'shunts': 0, u'ms': 14336131, u'v': 27.65, u'c_shunt': 0, u'c_out_fwd': 55.436, u'eror': 0, u'c_out_rev': 0} for field '<obj>' contains additional property 'eror' not defined by 'properties' or 'patternProperties' and additionalProperties  is False\n",
      "\n",
      "ERROR on  {u'data': {u'msg': {u'kind': u'caps', u'error': 0, u'uid': u'0000', u'temp': 20.125, u'i': 140521, u'c_in': 44.908, u'_shunt': 0, u'fan': False, u'shunts': 0, u'ms': 14351139, u'v': 27.287, u'c_out_fwd': 49.192, u'c_out_rev': 0}, u'size': 189, u'address': u'10.0.0.110'}, u'chan': u'network.data', u'time': u'2016-12-17T19:37:43.211Z'}\n",
      "Value {u'kind': u'caps', u'error': 0, u'uid': u'0000', u'temp': 20.125, u'i': 140521, u'c_in': 44.908, u'_shunt': 0, u'fan': False, u'shunts': 0, u'ms': 14351139, u'v': 27.287, u'c_out_fwd': 49.192, u'c_out_rev': 0} for field '<obj>' contains additional property '_shunt' not defined by 'properties' or 'patternProperties' and additionalProperties  is False\n",
      "\n",
      "ERROR on  {u'data': {u'msg': {u'kind': u'caps', u'uid': u'0000', u'temp': 20.187, u'i': 140766, u'error': 0, u'c_i': 46.72, u'fan': False, u'shunts': 0, u'ms': 14376148, u'v': 27.396, u'c_shunt': 0, u'c_out_fwd': 52.09, u'c_out_rev': 0}, u'size': 189, u'address': u'10.0.0.110'}, u'chan': u'network.data', u'time': u'2016-12-17T19:38:08.222Z'}\n",
      "Value {u'kind': u'caps', u'uid': u'0000', u'temp': 20.187, u'i': 140766, u'error': 0, u'c_i': 46.72, u'fan': False, u'shunts': 0, u'ms': 14376148, u'v': 27.396, u'c_shunt': 0, u'c_out_fwd': 52.09, u'c_out_rev': 0} for field '<obj>' contains additional property 'c_i' not defined by 'properties' or 'patternProperties' and additionalProperties  is False\n",
      "\n",
      "ERROR on  {u'data': {u'msg': {u'kind': u'caps', u'error': 0, u'uid': u'0000', u'temp': 21.125, u'i': 142480, u'c_in': 54.945, u'fan': False, u'c_out_rev': 0, u'ms': 14551155, u'v': 26.757, u'c_shunt': 0, u'c_out_fwd': 55.99, u'shnts': 0}, u'size': 189, u'address': u'10.0.0.110'}, u'chan': u'network.data', u'time': u'2016-12-17T19:41:03.244Z'}\n",
      "Value {u'kind': u'caps', u'error': 0, u'uid': u'0000', u'temp': 21.125, u'i': 142480, u'c_in': 54.945, u'fan': False, u'c_out_rev': 0, u'ms': 14551155, u'v': 26.757, u'c_shunt': 0, u'c_out_fwd': 55.99, u'shnts': 0} for field '<obj>' contains additional property 'shnts' not defined by 'properties' or 'patternProperties' and additionalProperties  is False\n",
      "\n",
      "ERROR on  {u'data': {u'msg': {u'kind': u'caps', u'error': 0, u'temp': 21.687, u'c_sunt': 0, u'i': 143606, u'c_in': 55.585, u'fan': False, u'shunts': 0, u'ms': 14666139, u'v': 25.158, u'uid': u'0000', u'c_out_fwd': 51.387, u'c_out_rev': 0}, u'size': 189, u'address': u'10.0.0.110'}, u'chan': u'network.data', u'time': u'2016-12-17T19:42:58.223Z'}\n",
      "Value {u'kind': u'caps', u'error': 0, u'temp': 21.687, u'c_sunt': 0, u'i': 143606, u'c_in': 55.585, u'fan': False, u'shunts': 0, u'ms': 14666139, u'v': 25.158, u'uid': u'0000', u'c_out_fwd': 51.387, u'c_out_rev': 0} for field '<obj>' contains additional property 'c_sunt' not defined by 'properties' or 'patternProperties' and additionalProperties  is False\n",
      "\n",
      "ERROR on  {u'data': {u'msg': {u'kind': u'caps', u'error': 0, u'c_shun': 0, u'uid': u'0000', u'temp': 22.125, u'i': 144781, u'c_in': 10.428, u'fan': False, u'shunts': 0, u'ms': 14786139, u'v': 25.594, u'c_out_fwd': 48.382, u'c_out_rev': 0}, u'size': 189, u'address': u'10.0.0.110'}, u'chan': u'network.data', u'time': u'2016-12-17T19:44:58.230Z'}\n",
      "Value {u'kind': u'caps', u'error': 0, u'c_shun': 0, u'uid': u'0000', u'temp': 22.125, u'i': 144781, u'c_in': 10.428, u'fan': False, u'shunts': 0, u'ms': 14786139, u'v': 25.594, u'c_out_fwd': 48.382, u'c_out_rev': 0} for field '<obj>' contains additional property 'c_shun' not defined by 'properties' or 'patternProperties' and additionalProperties  is False\n",
      "\n",
      "ERROR on  {u'data': {u'msg': {u'kind': u'caps', u'error': 0, u'uid': u'0000', u'temp': 22.187, u'i': 144879, u'c_in': 6.017, u'cout_fwd': 10.023, u'fan': False, u'shunts': 0, u'ms': 14796148, u'v': 23.959, u'c_shunt': 0, u'c_out_rev': 0}, u'size': 188, u'address': u'10.0.0.110'}, u'chan': u'network.data', u'time': u'2016-12-17T19:45:08.246Z'}\n",
      "Value {u'kind': u'caps', u'error': 0, u'uid': u'0000', u'temp': 22.187, u'i': 144879, u'c_in': 6.017, u'cout_fwd': 10.023, u'fan': False, u'shunts': 0, u'ms': 14796148, u'v': 23.959, u'c_shunt': 0, u'c_out_rev': 0} for field '<obj>' contains additional property 'cout_fwd' not defined by 'properties' or 'patternProperties' and additionalProperties  is False\n",
      "\n",
      "ERROR on  {u'data': {u'msg': {u'kind': u'caps', u'error': 0, u'uid': u'0000', u'temp': 23.687, u'i': 158051, u'c_in': 75.467, u'cout_fwd': 51.919, u'fan': False, u'shunts': 2, u'ms': 16141161, u'v': 27.318, u'c_shunt': 18.249, u'c_out_rev': 0}, u'size': 190, u'address': u'10.0.0.110'}, u'chan': u'network.data', u'time': u'2016-12-17T20:07:33.305Z'}\n",
      "Value {u'kind': u'caps', u'error': 0, u'uid': u'0000', u'temp': 23.687, u'i': 158051, u'c_in': 75.467, u'cout_fwd': 51.919, u'fan': False, u'shunts': 2, u'ms': 16141161, u'v': 27.318, u'c_shunt': 18.249, u'c_out_rev': 0} for field '<obj>' contains additional property 'cout_fwd' not defined by 'properties' or 'patternProperties' and additionalProperties  is False\n",
      "\n",
      "ERROR on  {u'data': {u'msg': {u'kind': u'caps', u'uid': u'0000', u'temp': 24.625, u'i': 159324, u'c_in': 54.519, u'fan': False, u'shunts': 0, u'ms': 16271147, u'v': 25.569, u'c_shunt': 0, u'c_out_fwd': 44.802, u'eror': 0, u'c_out_rev': 0}, u'size': 189, u'address': u'10.0.0.110'}, u'chan': u'network.data', u'time': u'2016-12-17T20:09:43.324Z'}\n",
      "Value {u'kind': u'caps', u'uid': u'0000', u'temp': 24.625, u'i': 159324, u'c_in': 54.519, u'fan': False, u'shunts': 0, u'ms': 16271147, u'v': 25.569, u'c_shunt': 0, u'c_out_fwd': 44.802, u'eror': 0, u'c_out_rev': 0} for field '<obj>' contains additional property 'eror' not defined by 'properties' or 'patternProperties' and additionalProperties  is False\n",
      "\n",
      "ERROR on  {u'data': {u'msg': {u'kind': u'caps', u'error': 0, u'uid': u'0000', u'temp': 29.125, u'i': 164026, u'c_in': 17.269, u'shuns': 0, u'fan': False, u'c_out_rev': 0, u'ms': 16751173, u'v': 26.939, u'c_out_fwd': 42.905, u'c_shunt': 0}, u'size': 189, u'address': u'10.0.0.110'}, u'chan': u'network.data', u'time': u'2016-12-17T20:17:43.339Z'}\n",
      "Value {u'kind': u'caps', u'error': 0, u'uid': u'0000', u'temp': 29.125, u'i': 164026, u'c_in': 17.269, u'shuns': 0, u'fan': False, u'c_out_rev': 0, u'ms': 16751173, u'v': 26.939, u'c_out_fwd': 42.905, u'c_shunt': 0} for field '<obj>' contains additional property 'shuns' not defined by 'properties' or 'patternProperties' and additionalProperties  is False\n",
      "\n",
      "ERROR on  {u'data': {u'msg': {u'kind': u'caps', u'cshunt': 0, u'uid': u'0000', u'temp': 32.187, u'i': 168777, u'c_in': 52.942, u'error': 0, u'fan': False, u'shunts': 0, u'ms': 17236161, u'v': 24.603, u'c_out_fwd': 26.091, u'c_out_rev': 0}, u'size': 189, u'address': u'10.0.0.110'}, u'chan': u'network.data', u'time': u'2016-12-17T20:25:48.344Z'}\n",
      "Value {u'kind': u'caps', u'cshunt': 0, u'uid': u'0000', u'temp': 32.187, u'i': 168777, u'c_in': 52.942, u'error': 0, u'fan': False, u'shunts': 0, u'ms': 17236161, u'v': 24.603, u'c_out_fwd': 26.091, u'c_out_rev': 0} for field '<obj>' contains additional property 'cshunt' not defined by 'properties' or 'patternProperties' and additionalProperties  is False\n",
      "\n",
      "ERROR on  {u'data': {u'msg': {u'kind': u'caps', u'error': 0, u'uid': u'0000', u'temp': 32.125, u'i': 169267, u'c_in': 0, u'an': False, u'shunts': 0, u'ms': 17286156, u'v': 23.819, u'c_shunt': 0, u'c_out_fwd': 1.7970000000000002, u'c_out_rev': 0}, u'size': 187, u'address': u'10.0.0.110'}, u'chan': u'network.data', u'time': u'2016-12-17T20:26:38.385Z'}\n",
      "Value {u'kind': u'caps', u'error': 0, u'uid': u'0000', u'temp': 32.125, u'i': 169267, u'c_in': 0, u'an': False, u'shunts': 0, u'ms': 17286156, u'v': 23.819, u'c_shunt': 0, u'c_out_fwd': 1.7970000000000002, u'c_out_rev': 0} for field '<obj>' contains additional property 'an' not defined by 'properties' or 'patternProperties' and additionalProperties  is False\n",
      "\n"
     ]
    }
   ],
   "source": [
    "validNetworkData = {}\n",
    "for kind in parsedNetworkData:\n",
    "    validNetworkData[kind] = []\n",
    "    for entry in parsedNetworkData[kind]:\n",
    "        try:\n",
    "            validate(entry['data']['msg'], msgSchemas[kind])\n",
    "        except Exception, err:\n",
    "            print \"ERROR on \", entry\n",
    "            print err\n",
    "            print\n",
    "            continue\n",
    "        validNetworkData[kind].append(entry)"
   ]
  },
  {
   "cell_type": "markdown",
   "metadata": {},
   "source": [
    "At this point, the data is all well-formed. However, note that it is probably inaccurate because characters could have been dropped from values, but still pass the validation"
   ]
  },
  {
   "cell_type": "markdown",
   "metadata": {},
   "source": [
    "## Create big, flat data table"
   ]
  },
  {
   "cell_type": "markdown",
   "metadata": {},
   "source": [
    "Now we try to normalize the data into one big table"
   ]
  },
  {
   "cell_type": "code",
   "execution_count": 23,
   "metadata": {
    "collapsed": true
   },
   "outputs": [],
   "source": [
    "def flatten(input):\n",
    "    output = {}\n",
    "    def _flat(obj):\n",
    "        for k in obj.keys():\n",
    "            if type(obj[k]) == dict:\n",
    "                _flat(obj[k])\n",
    "            else:\n",
    "                output[k] = obj[k]\n",
    "    _flat(input)\n",
    "    return output"
   ]
  },
  {
   "cell_type": "code",
   "execution_count": 24,
   "metadata": {
    "collapsed": false
   },
   "outputs": [
    {
     "data": {
      "text/plain": [
       "[u'serverlog',\n",
       " u'logger.state.clap',\n",
       " u'stats.network',\n",
       " u'network.data',\n",
       " u'stats.labels',\n",
       " u'stats.server',\n",
       " u'logger.state.recording_state']"
      ]
     },
     "execution_count": 24,
     "metadata": {},
     "output_type": "execute_result"
    }
   ],
   "source": [
    "parsedData.keys()"
   ]
  },
  {
   "cell_type": "code",
   "execution_count": 25,
   "metadata": {
    "collapsed": false
   },
   "outputs": [
    {
     "data": {
      "text/plain": [
       "[u'4-ac', u'inv', u'bike', u'acnet', u'caps']"
      ]
     },
     "execution_count": 25,
     "metadata": {},
     "output_type": "execute_result"
    }
   ],
   "source": [
    "validNetworkData.keys()"
   ]
  },
  {
   "cell_type": "code",
   "execution_count": 26,
   "metadata": {
    "collapsed": true
   },
   "outputs": [],
   "source": [
    "flattenedDataArray = []\n",
    "flattenedDataArray.extend([flatten(entry) for entry in parsedData['logger.state.clap']])\n",
    "for kind in validNetworkData:\n",
    "    flattenedDataArray.extend([flatten(entry) for entry in validNetworkData[kind]])"
   ]
  },
  {
   "cell_type": "code",
   "execution_count": 27,
   "metadata": {
    "collapsed": false
   },
   "outputs": [
    {
     "data": {
      "text/plain": [
       "561537"
      ]
     },
     "execution_count": 27,
     "metadata": {},
     "output_type": "execute_result"
    }
   ],
   "source": [
    "len(flattenedDataArray)"
   ]
  },
  {
   "cell_type": "code",
   "execution_count": 28,
   "metadata": {
    "collapsed": false
   },
   "outputs": [],
   "source": [
    "df = pd.DataFrame(flattenedDataArray)"
   ]
  },
  {
   "cell_type": "code",
   "execution_count": 29,
   "metadata": {
    "collapsed": true
   },
   "outputs": [],
   "source": [
    "df['time'] = pd.to_datetime(df['time'])"
   ]
  },
  {
   "cell_type": "code",
   "execution_count": 31,
   "metadata": {
    "collapsed": false
   },
   "outputs": [
    {
     "data": {
      "text/plain": [
       "Index([  u'address',       u'btn',       u'c_1',       u'c_2',       u'c_3',\n",
       "             u'c_4',    u'c_bits',      u'c_in',     u'c_out', u'c_out_fwd',\n",
       "       u'c_out_rev',   u'c_shunt',      u'c_t1',      u'c_t2',      u'c_t3',\n",
       "            u'c_t4',      u'chan',      u'data',     u'error',       u'fan',\n",
       "               u'i',       u'inv',      u'kind',        u'ms',     u'reset',\n",
       "          u'server',    u'shunts',      u'size',      u'soft',      u'temp',\n",
       "           u'tiers',      u'time',       u'uid',         u'v',      u'v_ac',\n",
       "          u'v_bits',      u'v_dc',      u'v_t1',      u'v_t2',      u'v_t3',\n",
       "            u'v_t4',      u'vers'],\n",
       "      dtype='object')"
      ]
     },
     "execution_count": 31,
     "metadata": {},
     "output_type": "execute_result"
    }
   ],
   "source": [
    "df.columns"
   ]
  },
  {
   "cell_type": "code",
   "execution_count": 32,
   "metadata": {
    "collapsed": false
   },
   "outputs": [],
   "source": [
    "del df['data']\n",
    "del df['vers']\n",
    "del df['i']\n",
    "del df['ms']"
   ]
  },
  {
   "cell_type": "code",
   "execution_count": 41,
   "metadata": {
    "collapsed": false
   },
   "outputs": [
    {
     "data": {
      "text/html": [
       "<div style=\"max-height:1000px;max-width:1500px;overflow:auto;\">\n",
       "<table border=\"1\" class=\"dataframe\">\n",
       "  <thead>\n",
       "    <tr style=\"text-align: right;\">\n",
       "      <th></th>\n",
       "      <th>address</th>\n",
       "      <th>btn</th>\n",
       "      <th>c_1</th>\n",
       "      <th>c_2</th>\n",
       "      <th>c_3</th>\n",
       "      <th>c_4</th>\n",
       "      <th>c_bits</th>\n",
       "      <th>c_in</th>\n",
       "      <th>c_out</th>\n",
       "      <th>c_out_fwd</th>\n",
       "      <th>...</th>\n",
       "      <th>time</th>\n",
       "      <th>uid</th>\n",
       "      <th>v</th>\n",
       "      <th>v_ac</th>\n",
       "      <th>v_bits</th>\n",
       "      <th>v_dc</th>\n",
       "      <th>v_t1</th>\n",
       "      <th>v_t2</th>\n",
       "      <th>v_t3</th>\n",
       "      <th>v_t4</th>\n",
       "    </tr>\n",
       "  </thead>\n",
       "  <tbody>\n",
       "    <tr>\n",
       "      <th>545404</th>\n",
       "      <td>10.0.0.110</td>\n",
       "      <td>NaN</td>\n",
       "      <td>NaN</td>\n",
       "      <td>NaN</td>\n",
       "      <td>NaN</td>\n",
       "      <td>NaN</td>\n",
       "      <td>NaN</td>\n",
       "      <td>57545</td>\n",
       "      <td>NaN</td>\n",
       "      <td>56.352</td>\n",
       "      <td>...</td>\n",
       "      <td>2016-12-17 19:43:08.233000</td>\n",
       "      <td>0000</td>\n",
       "      <td>25.133</td>\n",
       "      <td>NaN</td>\n",
       "      <td>NaN</td>\n",
       "      <td>NaN</td>\n",
       "      <td>NaN</td>\n",
       "      <td>NaN</td>\n",
       "      <td>NaN</td>\n",
       "      <td>NaN</td>\n",
       "    </tr>\n",
       "  </tbody>\n",
       "</table>\n",
       "<p>1 rows × 38 columns</p>\n",
       "</div>"
      ],
      "text/plain": [
       "           address  btn  c_1  c_2  c_3  c_4  c_bits   c_in  c_out  c_out_fwd  \\\n",
       "545404  10.0.0.110  NaN  NaN  NaN  NaN  NaN     NaN  57545    NaN     56.352   \n",
       "\n",
       "       ...                        time   uid       v  v_ac  v_bits  v_dc v_t1  \\\n",
       "545404 ...  2016-12-17 19:43:08.233000  0000  25.133   NaN     NaN   NaN  NaN   \n",
       "\n",
       "        v_t2 v_t3 v_t4  \n",
       "545404   NaN  NaN  NaN  \n",
       "\n",
       "[1 rows x 38 columns]"
      ]
     },
     "execution_count": 41,
     "metadata": {},
     "output_type": "execute_result"
    }
   ],
   "source": [
    "df[df.c_in > 1000]"
   ]
  },
  {
   "cell_type": "code",
   "execution_count": 44,
   "metadata": {
    "collapsed": false
   },
   "outputs": [],
   "source": [
    "df = df.drop(545404)"
   ]
  },
  {
   "cell_type": "code",
   "execution_count": 54,
   "metadata": {
    "collapsed": false
   },
   "outputs": [
    {
     "data": {
      "text/html": [
       "<div style=\"max-height:1000px;max-width:1500px;overflow:auto;\">\n",
       "<table border=\"1\" class=\"dataframe\">\n",
       "  <thead>\n",
       "    <tr style=\"text-align: right;\">\n",
       "      <th></th>\n",
       "      <th>address</th>\n",
       "      <th>btn</th>\n",
       "      <th>c_1</th>\n",
       "      <th>c_2</th>\n",
       "      <th>c_3</th>\n",
       "      <th>c_4</th>\n",
       "      <th>c_bits</th>\n",
       "      <th>c_in</th>\n",
       "      <th>c_out</th>\n",
       "      <th>c_out_fwd</th>\n",
       "      <th>...</th>\n",
       "      <th>time</th>\n",
       "      <th>uid</th>\n",
       "      <th>v</th>\n",
       "      <th>v_ac</th>\n",
       "      <th>v_bits</th>\n",
       "      <th>v_dc</th>\n",
       "      <th>v_t1</th>\n",
       "      <th>v_t2</th>\n",
       "      <th>v_t3</th>\n",
       "      <th>v_t4</th>\n",
       "    </tr>\n",
       "  </thead>\n",
       "  <tbody>\n",
       "    <tr>\n",
       "      <th>551880</th>\n",
       "      <td>10.0.0.110</td>\n",
       "      <td>NaN</td>\n",
       "      <td>NaN</td>\n",
       "      <td>NaN</td>\n",
       "      <td>NaN</td>\n",
       "      <td>NaN</td>\n",
       "      <td>NaN</td>\n",
       "      <td>53.603</td>\n",
       "      <td>NaN</td>\n",
       "      <td>47.146</td>\n",
       "      <td>...</td>\n",
       "      <td>2016-12-17 20:09:48.299000</td>\n",
       "      <td>0000</td>\n",
       "      <td>25.667</td>\n",
       "      <td>NaN</td>\n",
       "      <td>NaN</td>\n",
       "      <td>NaN</td>\n",
       "      <td>NaN</td>\n",
       "      <td>NaN</td>\n",
       "      <td>NaN</td>\n",
       "      <td>NaN</td>\n",
       "    </tr>\n",
       "  </tbody>\n",
       "</table>\n",
       "<p>1 rows × 38 columns</p>\n",
       "</div>"
      ],
      "text/plain": [
       "           address  btn  c_1  c_2  c_3  c_4  c_bits    c_in  c_out  c_out_fwd  \\\n",
       "551880  10.0.0.110  NaN  NaN  NaN  NaN  NaN     NaN  53.603    NaN     47.146   \n",
       "\n",
       "       ...                        time   uid       v  v_ac  v_bits  v_dc v_t1  \\\n",
       "551880 ...  2016-12-17 20:09:48.299000  0000  25.667   NaN     NaN   NaN  NaN   \n",
       "\n",
       "        v_t2 v_t3 v_t4  \n",
       "551880   NaN  NaN  NaN  \n",
       "\n",
       "[1 rows x 38 columns]"
      ]
     },
     "execution_count": 54,
     "metadata": {},
     "output_type": "execute_result"
    }
   ],
   "source": [
    "df[(df.kind == 'caps') & (df.temp < 15)]"
   ]
  },
  {
   "cell_type": "code",
   "execution_count": 56,
   "metadata": {
    "collapsed": false
   },
   "outputs": [],
   "source": [
    "df = df.drop(551880)"
   ]
  },
  {
   "cell_type": "code",
   "execution_count": 57,
   "metadata": {
    "collapsed": false
   },
   "outputs": [
    {
     "data": {
      "text/plain": [
       "561535"
      ]
     },
     "execution_count": 57,
     "metadata": {},
     "output_type": "execute_result"
    }
   ],
   "source": [
    "len(df)"
   ]
  },
  {
   "cell_type": "code",
   "execution_count": 59,
   "metadata": {
    "collapsed": false
   },
   "outputs": [],
   "source": [
    "df = df.set_index('time', verify_integrity=True)"
   ]
  },
  {
   "cell_type": "code",
   "execution_count": 60,
   "metadata": {
    "collapsed": true
   },
   "outputs": [],
   "source": [
    "df = df.sort_index()\n",
    "df.to_pickle('all_data.pkl')"
   ]
  }
 ],
 "metadata": {
  "kernelspec": {
   "display_name": "Python 2",
   "language": "python",
   "name": "python2"
  },
  "language_info": {
   "codemirror_mode": {
    "name": "ipython",
    "version": 2
   },
   "file_extension": ".py",
   "mimetype": "text/x-python",
   "name": "python",
   "nbconvert_exporter": "python",
   "pygments_lexer": "ipython2",
   "version": "2.7.11"
  }
 },
 "nbformat": 4,
 "nbformat_minor": 2
}
